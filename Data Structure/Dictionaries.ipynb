{
 "cells": [
  {
   "cell_type": "markdown",
   "metadata": {},
   "source": [
    "1. Introduction to Dictionaries\n",
    "2. Creating Dictionaries\n",
    "3. Accessing Dictionary Elements\n",
    "4. Modifying Dictionary Elements\n",
    "5. Dictionary Methods\n",
    "6. Iterating Over dictionaries\n",
    "7. Nested Dictionaries\n",
    "8. Dictionary Comprehensions\n",
    "9. Practical Examples and Comman Errors\n"
   ]
  },
  {
   "cell_type": "markdown",
   "metadata": {},
   "source": [
    "## introduction to Dictionaries\n",
    "\n",
    "Dictionaries are unordered collections of items . They store data in key-value pairs. Keys must be unique and immutable (e.g- strings, numbers or tuples), while values can be of any types"
   ]
  },
  {
   "cell_type": "markdown",
   "metadata": {},
   "source": [
    "## Creating Dictionaries\n",
    "\n",
    "[]"
   ]
  },
  {
   "cell_type": "markdown",
   "metadata": {},
   "source": []
  },
  {
   "cell_type": "code",
   "execution_count": 1,
   "metadata": {},
   "outputs": [
    {
     "name": "stdout",
     "output_type": "stream",
     "text": [
      "<class 'dict'>\n"
     ]
    }
   ],
   "source": [
    "emp_dict = {}\n",
    "print(type(emp_dict))"
   ]
  },
  {
   "cell_type": "code",
   "execution_count": 2,
   "metadata": {},
   "outputs": [
    {
     "name": "stdout",
     "output_type": "stream",
     "text": [
      "<class 'dict'>\n"
     ]
    }
   ],
   "source": [
    "emp_dict =  dict()\n",
    "print(type(emp_dict))"
   ]
  },
  {
   "cell_type": "code",
   "execution_count": 5,
   "metadata": {},
   "outputs": [
    {
     "name": "stdout",
     "output_type": "stream",
     "text": [
      "<class 'str'>\n"
     ]
    }
   ],
   "source": [
    "student ={\n",
    "    \"name\":\"sami\",\n",
    "    \"age\": 20,\n",
    "    \"is_student\": True,\n",
    "    \"courses\": [\"math\", \"science\"],\n",
    "}\n",
    "\n",
    "print(type(student[\"name\"]))"
   ]
  },
  {
   "cell_type": "code",
   "execution_count": 38,
   "metadata": {},
   "outputs": [
    {
     "name": "stdout",
     "output_type": "stream",
     "text": [
      "{'name': '3je', 'age': 30}\n"
     ]
    }
   ],
   "source": [
    "# Error\n",
    "\n",
    "# single key are always used for the last value\n",
    "# if the key is same in the dictionary, then the last value will be used\n",
    "student = {\n",
    "    \"name\":\"Krish\",\n",
    "    \"age\":30,\n",
    "    \"name\":\"3je\"\n",
    "}\n",
    "print(student)"
   ]
  },
  {
   "cell_type": "code",
   "execution_count": 39,
   "metadata": {},
   "outputs": [
    {
     "name": "stdout",
     "output_type": "stream",
     "text": [
      "['math', 'science']\n"
     ]
    },
    {
     "ename": "KeyError",
     "evalue": "'name1'",
     "output_type": "error",
     "traceback": [
      "\u001b[31m---------------------------------------------------------------------------\u001b[39m",
      "\u001b[31mKeyError\u001b[39m                                  Traceback (most recent call last)",
      "\u001b[36mCell\u001b[39m\u001b[36m \u001b[39m\u001b[32mIn[39]\u001b[39m\u001b[32m, line 9\u001b[39m\n\u001b[32m      2\u001b[39m student = {\n\u001b[32m      3\u001b[39m     \u001b[33m\"\u001b[39m\u001b[33mname\u001b[39m\u001b[33m\"\u001b[39m:\u001b[33m\"\u001b[39m\u001b[33msami\u001b[39m\u001b[33m\"\u001b[39m,\n\u001b[32m      4\u001b[39m     \u001b[33m\"\u001b[39m\u001b[33mage\u001b[39m\u001b[33m\"\u001b[39m: \u001b[32m20\u001b[39m,\n\u001b[32m      5\u001b[39m     \u001b[33m\"\u001b[39m\u001b[33mis_student\u001b[39m\u001b[33m\"\u001b[39m: \u001b[38;5;28;01mTrue\u001b[39;00m,\n\u001b[32m      6\u001b[39m     \u001b[33m\"\u001b[39m\u001b[33mcourses\u001b[39m\u001b[33m\"\u001b[39m: [\u001b[33m\"\u001b[39m\u001b[33mmath\u001b[39m\u001b[33m\"\u001b[39m, \u001b[33m\"\u001b[39m\u001b[33mscience\u001b[39m\u001b[33m\"\u001b[39m],\n\u001b[32m      7\u001b[39m }\n\u001b[32m      8\u001b[39m \u001b[38;5;28mprint\u001b[39m(student[\u001b[33m\"\u001b[39m\u001b[33mcourses\u001b[39m\u001b[33m\"\u001b[39m])\n\u001b[32m----> \u001b[39m\u001b[32m9\u001b[39m \u001b[38;5;28mprint\u001b[39m(\u001b[43mstudent\u001b[49m\u001b[43m[\u001b[49m\u001b[33;43m\"\u001b[39;49m\u001b[33;43mname1\u001b[39;49m\u001b[33;43m\"\u001b[39;49m\u001b[43m]\u001b[49m)\n",
      "\u001b[31mKeyError\u001b[39m: 'name1'"
     ]
    }
   ],
   "source": [
    "## accessing the value of the dictionary\n",
    "student = {\n",
    "    \"name\":\"sami\",\n",
    "    \"age\": 20,\n",
    "    \"is_student\": True,\n",
    "    \"courses\": [\"math\", \"science\"],\n",
    "}\n",
    "print(student[\"courses\"])\n",
    "print(student[\"name1\"])"
   ]
  },
  {
   "cell_type": "code",
   "execution_count": 40,
   "metadata": {},
   "outputs": [
    {
     "name": "stdout",
     "output_type": "stream",
     "text": [
      "sami\n",
      "20\n",
      "None not available\n"
     ]
    }
   ],
   "source": [
    "## accessing using get method\n",
    "print(student.get(\"name\"))\n",
    "print(student.get(\"age\"))\n",
    "print(student.get(\"last_name\"),\"not available\") # None\n"
   ]
  },
  {
   "cell_type": "code",
   "execution_count": 41,
   "metadata": {},
   "outputs": [
    {
     "name": "stdout",
     "output_type": "stream",
     "text": [
      "{'name': 'sami', 'age': 20, 'is_student': True, 'courses': ['math', 'science']}\n"
     ]
    }
   ],
   "source": [
    "## Modifying the dictionary\n",
    "## Dictionary is mutable, so we can change the value of the dictionary\n",
    "\n",
    "print(student)\n",
    "\n"
   ]
  },
  {
   "cell_type": "code",
   "execution_count": 42,
   "metadata": {},
   "outputs": [
    {
     "name": "stdout",
     "output_type": "stream",
     "text": [
      "{'name': 'sami', 'age': 33, 'is_student': True, 'courses': ['math', 'science']}\n",
      "{'name': 'sami', 'age': 33, 'is_student': True, 'courses': ['math', 'science', 'english']}\n"
     ]
    }
   ],
   "source": [
    "student[\"age\"]=33 # changing the value of the key age\n",
    "print(student)\n",
    "student[\"courses\"].append(\"english\")\n",
    "print(student)"
   ]
  },
  {
   "cell_type": "code",
   "execution_count": 43,
   "metadata": {},
   "outputs": [
    {
     "name": "stdout",
     "output_type": "stream",
     "text": [
      "{'name': 'sami', 'age': 33, 'courses': ['math', 'science', 'english']}\n"
     ]
    }
   ],
   "source": [
    "del student[\"is_student\"] # deleting the key is_student\n",
    "print(student)"
   ]
  },
  {
   "cell_type": "code",
   "execution_count": 44,
   "metadata": {},
   "outputs": [
    {
     "name": "stdout",
     "output_type": "stream",
     "text": [
      "dict_keys(['name', 'age', 'courses'])\n",
      "dict_values(['sami', 33, ['math', 'science', 'english']])\n"
     ]
    }
   ],
   "source": [
    "## Dictionary methods\n",
    "print(student.keys()) # returns the keys of the dictionary\n",
    "print(student.values()) # returns the values of the dictionary"
   ]
  },
  {
   "cell_type": "code",
   "execution_count": 45,
   "metadata": {},
   "outputs": [
    {
     "name": "stdout",
     "output_type": "stream",
     "text": [
      "dict_keys(['name', 'age', 'courses'])\n",
      "dict_values(['sami', 33, ['math', 'science', 'english']])\n"
     ]
    }
   ],
   "source": [
    "keys = student.keys() # returns the keys of the dictionary\n",
    "print(keys)\n",
    "values = student.values() # returns the values of the dictionary\n",
    "print(values)"
   ]
  },
  {
   "cell_type": "code",
   "execution_count": 46,
   "metadata": {},
   "outputs": [
    {
     "name": "stdout",
     "output_type": "stream",
     "text": [
      "dict_items([('name', 'sami'), ('age', 33), ('courses', ['math', 'science', 'english'])])\n"
     ]
    }
   ],
   "source": [
    "item = student.items() # returns the items of the dictionary\n",
    "print(item)"
   ]
  },
  {
   "cell_type": "code",
   "execution_count": 47,
   "metadata": {},
   "outputs": [
    {
     "name": "stdout",
     "output_type": "stream",
     "text": [
      "{'name': 'sami', 'age': 33, 'courses': ['math', 'science', 'english']}\n",
      "{'name': 'sami', 'age': 33, 'courses': ['math', 'science', 'english']}\n"
     ]
    }
   ],
   "source": [
    "## Shallow Copy\n",
    "student_copy = student.copy() # shallow copy of the dictionary\n",
    "print(student)\n",
    "print(student_copy)"
   ]
  },
  {
   "cell_type": "code",
   "execution_count": 48,
   "metadata": {},
   "outputs": [
    {
     "name": "stdout",
     "output_type": "stream",
     "text": [
      "{'name': 'Ali', 'age': 33, 'courses': ['math', 'science', 'english']}\n",
      "{'name': 'sami', 'age': 33, 'courses': ['math', 'science', 'english']}\n"
     ]
    }
   ],
   "source": [
    "student[\"name\"] = \"Ali\"\n",
    "print(student)\n",
    "print(student_copy)"
   ]
  },
  {
   "cell_type": "code",
   "execution_count": 49,
   "metadata": {},
   "outputs": [
    {
     "name": "stdout",
     "output_type": "stream",
     "text": [
      "{'name': 'Ali', 'age': 33, 'courses': ['math', 'science', 'english']}\n",
      "{'name': 'Ali', 'age': 33, 'courses': ['math', 'science', 'english']}\n"
     ]
    }
   ],
   "source": [
    "## shallow copy of the dictionary\n",
    "\n",
    "student_copy1 = student.copy() # shallow copy of the dictionary\n",
    "print(student_copy1)\n",
    "print(student)"
   ]
  },
  {
   "cell_type": "code",
   "execution_count": 54,
   "metadata": {},
   "outputs": [
    {
     "name": "stdout",
     "output_type": "stream",
     "text": [
      "name Ali\n",
      "age 33\n",
      "courses ['math', 'science', 'english']\n",
      "name Ali\n",
      "age 33\n",
      "courses ['math', 'science', 'english']\n"
     ]
    }
   ],
   "source": [
    "## iterating Over the dictionary\n",
    "for key in student:\n",
    "    print(key,student[key])\n",
    "\n",
    "for keys in student.keys():\n",
    "    print(keys,student[keys])"
   ]
  },
  {
   "cell_type": "code",
   "execution_count": 53,
   "metadata": {},
   "outputs": [
    {
     "name": "stdout",
     "output_type": "stream",
     "text": [
      "Ali\n",
      "33\n",
      "['math', 'science', 'english']\n"
     ]
    }
   ],
   "source": [
    "for values in student.values():\n",
    "    print(values)"
   ]
  },
  {
   "cell_type": "code",
   "execution_count": 56,
   "metadata": {},
   "outputs": [
    {
     "name": "stdout",
     "output_type": "stream",
     "text": [
      "name: Ali\n",
      "age: 33\n",
      "courses: ['math', 'science', 'english']\n"
     ]
    }
   ],
   "source": [
    "# iterating over the keys and values of the dictionary\n",
    "for key, value in student.items():\n",
    "    print(f\"{key}: {value}\")"
   ]
  },
  {
   "cell_type": "code",
   "execution_count": 57,
   "metadata": {},
   "outputs": [
    {
     "name": "stdout",
     "output_type": "stream",
     "text": [
      "sami\n",
      "22\n"
     ]
    }
   ],
   "source": [
    "## Nested Dictionary\n",
    "\n",
    "students = {\n",
    "    \"student1\": {\n",
    "        \"name\": \"sami\",\n",
    "        \"age\": 20,\n",
    "        \"is_student\": True,\n",
    "        \"courses\": [\"math\", \"science\"],\n",
    "    },\n",
    "    \"student2\": {\n",
    "        \"name\": \"Ali\",\n",
    "        \"age\": 22,\n",
    "        \"is_student\": False,\n",
    "        \"courses\": [\"english\", \"history\"],\n",
    "    },\n",
    "}\n",
    "\n",
    "print(students[\"student1\"][\"name\"]) # accessing the name of student1\n",
    "print(students[\"student2\"][\"age\"]) # accessing the age of student2\n"
   ]
  },
  {
   "cell_type": "code",
   "execution_count": 59,
   "metadata": {},
   "outputs": [
    {
     "name": "stdout",
     "output_type": "stream",
     "text": [
      "Student ID: student1\n",
      "name: sami\n",
      "age: 20\n",
      "is_student: True\n",
      "courses: ['math', 'science']\n",
      "\n",
      "Student ID: student2\n",
      "name: Ali\n",
      "age: 22\n",
      "is_student: False\n",
      "courses: ['english', 'history']\n",
      "\n"
     ]
    }
   ],
   "source": [
    "## iterating the nested dictionary\n",
    "for student_id,student_info in students.items():\n",
    "    print(f\"Student ID: {student_id}\")\n",
    "    for key, value in student_info.items():\n",
    "        print(f\"{key}: {value}\")\n",
    "    print()"
   ]
  },
  {
   "cell_type": "code",
   "execution_count": 60,
   "metadata": {},
   "outputs": [
    {
     "name": "stdout",
     "output_type": "stream",
     "text": [
      "{1: 1, 2: 4, 3: 9, 4: 16, 5: 25}\n"
     ]
    }
   ],
   "source": [
    "## Dictionary Comprehension\n",
    "\n",
    "squares = {x: x**2 for x in range(1, 6)} # creating a dictionary using dictionary comprehension\n",
    "print(squares) # {1: 1, 2: 4, 3: 9, 4: 16, 5: 25}\n"
   ]
  },
  {
   "cell_type": "code",
   "execution_count": 64,
   "metadata": {},
   "outputs": [
    {
     "name": "stdout",
     "output_type": "stream",
     "text": [
      "{1: 1, 2: 3, 3: 2, 4: 2, 5: 2, 6: 1}\n",
      "{1: 1, 2: 3, 3: 2, 4: 2, 5: 2, 6: 1}\n"
     ]
    }
   ],
   "source": [
    "## Practical example of dictionary comprehension\n",
    "\n",
    "## use a dictionary to count the frequency of each character in a string\n",
    "number = [1,2,3,4,5,6,2,2,3,4,5]\n",
    "#using loop\n",
    "\n",
    "frequency = {}\n",
    "for num in number:\n",
    "    if num in frequency:\n",
    "        frequency[num]+=1\n",
    "    else:\n",
    "        frequency[num]=1\n",
    "print(frequency) # {1: 1, 2: 3, 3: 2, 4: 2, 5: 2, 6: 1}\n",
    "\n",
    "\n",
    "# using dictionary comprehension\n",
    "frequency = {num:number.count(num) for num in number}\n",
    "print(frequency) # {1: 1, 2: 3, 3: 2, 4: 2, 5: 2, 6: 1}"
   ]
  },
  {
   "cell_type": "code",
   "execution_count": 65,
   "metadata": {},
   "outputs": [
    {
     "name": "stdout",
     "output_type": "stream",
     "text": [
      "{'name': 'sami', 'age': 20, 'is_student': True, 'courses': ['math', 'science']}\n"
     ]
    }
   ],
   "source": [
    "## Merge two dictionaries\n",
    "dict1 = {\"name\": \"sami\", \"age\": 20}\n",
    "dict2 = {\"is_student\": True, \"courses\": [\"math\", \"science\"]}\n",
    "dict3 = {**dict1, **dict2} # merging two dictionaries using unpacking operator\n",
    "print(dict3) # {'name': 'sami', 'age': 20, 'is_student': True, 'courses': ['math', 'science']}"
   ]
  },
  {
   "cell_type": "code",
   "execution_count": null,
   "metadata": {},
   "outputs": [],
   "source": []
  }
 ],
 "metadata": {
  "kernelspec": {
   "display_name": "Python 3",
   "language": "python",
   "name": "python3"
  },
  "language_info": {
   "codemirror_mode": {
    "name": "ipython",
    "version": 3
   },
   "file_extension": ".py",
   "mimetype": "text/x-python",
   "name": "python",
   "nbconvert_exporter": "python",
   "pygments_lexer": "ipython3",
   "version": "3.11.6"
  }
 },
 "nbformat": 4,
 "nbformat_minor": 2
}

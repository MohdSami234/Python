{
 "cells": [
  {
   "cell_type": "markdown",
   "metadata": {},
   "source": [
    "## Real- World Examples Using Lists in Python\n",
    "\n",
    "List are one of the most commonly used data structures in python , thanks to their versatility and ease of use.\n",
    "Here are several practical examples that illustrate their use in real-world scenarios"
   ]
  },
  {
   "cell_type": "markdown",
   "metadata": {},
   "source": [
    "Example 1. Manage A To Do List\n",
    "- Create a To Do List To Keep Track Of Tasks"
   ]
  },
  {
   "cell_type": "code",
   "execution_count": 8,
   "metadata": {},
   "outputs": [
    {
     "name": "stdout",
     "output_type": "stream",
     "text": [
      "Task 'Walk the dog' added to the list.\n",
      "Task 'Read a book' added to the list.\n",
      "Task 'Clean the house' removed from the list.\n",
      "Task 'Finish homework' exists in the list.\n",
      "Current To-Do List:\n"
     ]
    },
    {
     "data": {
      "text/plain": [
       "['Buy groceries', 'Finish homework', 'Walk the dog', 'Read a book']"
      ]
     },
     "execution_count": 8,
     "metadata": {},
     "output_type": "execute_result"
    }
   ],
   "source": [
    "\n",
    "\n",
    "to_do_list = [\"Buy groceries\", \"Clean the house\", \"Finish homework\"]\n",
    "\n",
    "## Adding a new task to the list\n",
    "def add_task(task):\n",
    "    to_do_list.append(task)\n",
    "    print(f\"Task '{task}' added to the list.\")\n",
    "\n",
    "def remove_task(task):\n",
    "    if task in to_do_list:\n",
    "        to_do_list.remove(task)\n",
    "        print(f\"Task '{task}' removed from the list.\")\n",
    "    else:\n",
    "        print(f\"Task '{task}' not found in the list.\")\n",
    "\n",
    "def if_task_exists(task):\n",
    "    if task in to_do_list:\n",
    "        print(f\"Task '{task}' exists in the list.\")\n",
    "    else:\n",
    "        print(f\"Task '{task}' does not exist in the list.\")\n",
    "\n",
    "add_task(\"Walk the dog\")\n",
    "add_task(\"Read a book\")\n",
    "remove_task(\"Clean the house\")\n",
    "if_task_exists(\"Finish homework\")\n",
    "print(\"Current To-Do List:\")\n",
    "\n",
    "\n",
    "to_do_list"
   ]
  },
  {
   "cell_type": "markdown",
   "metadata": {},
   "source": [
    "## Example-2 :Organizing Student Grades\n",
    "-  Create a list to store and calculate average grades for students\n"
   ]
  },
  {
   "cell_type": "code",
   "execution_count": 10,
   "metadata": {},
   "outputs": [
    {
     "name": "stdout",
     "output_type": "stream",
     "text": [
      "Average grade: 88.00\n",
      "Maximum grade: 95\n",
      "Minimum grade: 78\n"
     ]
    }
   ],
   "source": [
    "grades = [85, 90, 78, 92, 88]\n",
    "\n",
    "grades.append(95)\n",
    "\n",
    "#calculate the average grade\n",
    "average_grade = sum(grades) / len(grades)\n",
    "\n",
    "print(f\"Average grade: {average_grade:.2f}\")\n",
    "\n",
    "#Find the maximum and minimum grades\n",
    "max_grade = max(grades) \n",
    "min_grade = min(grades)\n",
    "print(f\"Maximum grade: {max_grade}\")\n",
    "print(f\"Minimum grade: {min_grade}\")\n"
   ]
  },
  {
   "cell_type": "markdown",
   "metadata": {},
   "source": [
    "## Example 3 - Managing An Inventory\n",
    "- Use a list a manage inventory items in a store "
   ]
  },
  {
   "cell_type": "code",
   "execution_count": 12,
   "metadata": {},
   "outputs": [
    {
     "name": "stdout",
     "output_type": "stream",
     "text": [
      "Oranges are in the inventory.\n",
      "Current inventory:\n",
      "apples\n",
      "oranges\n",
      "grapes\n",
      "pears\n"
     ]
    }
   ],
   "source": [
    "inventory = [\"apples\",\"bananas\",\"oranges\",\"grapes\"]\n",
    "\n",
    "#Adding an item to the inventory\n",
    "inventory.append(\"pears\")\n",
    "\n",
    "#Removing an item from the inventory\n",
    "inventory.remove(\"bananas\")\n",
    "\n",
    "#Checking if an item exists in the inventory\n",
    "if \"oranges\" in inventory:\n",
    "    print(\"Oranges are in the inventory.\")\n",
    "else:\n",
    "    print(\"Oranges are not in the inventory.\")\n",
    "\n",
    "\n",
    "#Printing the current inventory\n",
    "print(\"Current inventory:\")\n",
    "for item in inventory:\n",
    "    print(item)"
   ]
  },
  {
   "cell_type": "markdown",
   "metadata": {},
   "source": [
    "Example 4: Collecting User Feedback\n",
    "\n",
    "- use a list to collect and analyze user feedback"
   ]
  },
  {
   "cell_type": "code",
   "execution_count": 15,
   "metadata": {},
   "outputs": [
    {
     "name": "stdout",
     "output_type": "stream",
     "text": [
      "Positive feedback count: 2\n",
      "User Feedback:\n",
      "Great service\n",
      "Very satisfied\n",
      "Could be better\n",
      "Excellent support\n",
      "Loved the experience\n"
     ]
    }
   ],
   "source": [
    "# Collecting user feedback\n",
    "feedback = [\"Great service\", \"Very satisfied\", \"Could be better\",\"Excellent support\"]\n",
    "# Adding new feedback\n",
    "feedback.append(\"Loved the experience\")\n",
    "\n",
    "#posive feedback count \n",
    "positive_feedback_count = sum(1 for comment in feedback if \"great\" in comment.lower() or \"excellent\" in comment.lower())\n",
    "print(f\"Positive feedback count: {positive_feedback_count}\")\n",
    "\n",
    "# Printing all feedback\n",
    "print(\"User Feedback:\") \n",
    "for comment in feedback:\n",
    "    print(comment)"
   ]
  },
  {
   "cell_type": "code",
   "execution_count": null,
   "metadata": {},
   "outputs": [],
   "source": []
  }
 ],
 "metadata": {
  "kernelspec": {
   "display_name": "Python 3",
   "language": "python",
   "name": "python3"
  },
  "language_info": {
   "codemirror_mode": {
    "name": "ipython",
    "version": 3
   },
   "file_extension": ".py",
   "mimetype": "text/x-python",
   "name": "python",
   "nbconvert_exporter": "python",
   "pygments_lexer": "ipython3",
   "version": "3.11.6"
  }
 },
 "nbformat": 4,
 "nbformat_minor": 2
}

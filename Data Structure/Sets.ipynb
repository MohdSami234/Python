{
 "cells": [
  {
   "cell_type": "markdown",
   "metadata": {},
   "source": [
    "## Sets\n",
    "\n",
    "Sets are a build-in data type in Python used to store collections of unique items. They are unordered, meaning that the elements do not follow a specific order, and they do not allow dublicate elements. Sets are useful for membership tests, elimination dublicate entries, and performing mathmatical set operations like union, intersections, difference and symmentic difference."
   ]
  },
  {
   "cell_type": "markdown",
   "metadata": {},
   "source": []
  },
  {
   "cell_type": "code",
   "execution_count": 3,
   "metadata": {},
   "outputs": [
    {
     "name": "stdout",
     "output_type": "stream",
     "text": [
      "{1, 2, 3, 4, 5}\n",
      "<class 'set'>\n"
     ]
    }
   ],
   "source": [
    "## create a set\n",
    "\n",
    "my_set  = {1, 2, 3, 4, 5}\n",
    "print(my_set)\n",
    "print(type(my_set))\n"
   ]
  },
  {
   "cell_type": "code",
   "execution_count": 7,
   "metadata": {},
   "outputs": [
    {
     "name": "stdout",
     "output_type": "stream",
     "text": [
      "{1, 2, 3, 4}\n"
     ]
    }
   ],
   "source": [
    "my_empty_set = set([1,2,3,4,4])\n",
    "print(my_empty_set)"
   ]
  },
  {
   "cell_type": "code",
   "execution_count": 11,
   "metadata": {},
   "outputs": [
    {
     "name": "stdout",
     "output_type": "stream",
     "text": [
      "{1, 2, 3, 4, 5, 6}\n",
      "{1, 2, 3, 4, 5}\n"
     ]
    }
   ],
   "source": [
    "## basic Sets Operations\n",
    "\n",
    "## Adding and removing elements\n",
    "\n",
    "my_set.add(6)\n",
    "print(my_set)   \n",
    "my_set.remove(6)\n",
    "print(my_set)"
   ]
  },
  {
   "cell_type": "code",
   "execution_count": 12,
   "metadata": {},
   "outputs": [],
   "source": [
    "my_set.discard(6) # discard does not raise an error if the element is not found"
   ]
  },
  {
   "cell_type": "code",
   "execution_count": 15,
   "metadata": {},
   "outputs": [
    {
     "name": "stdout",
     "output_type": "stream",
     "text": [
      "2\n",
      "{3, 4, 5}\n"
     ]
    }
   ],
   "source": [
    "##pop removes and returns an arbitrary element from the set\n",
    "print(my_set.pop()) # returns an arbitrary element\n",
    "print(my_set) # the set is now smaller by one element"
   ]
  },
  {
   "cell_type": "code",
   "execution_count": 14,
   "metadata": {},
   "outputs": [
    {
     "data": {
      "text/plain": [
       "{2, 3, 4, 5}"
      ]
     },
     "execution_count": 14,
     "metadata": {},
     "output_type": "execute_result"
    }
   ],
   "source": [
    "my_set"
   ]
  },
  {
   "cell_type": "code",
   "execution_count": 16,
   "metadata": {},
   "outputs": [],
   "source": [
    "## clear all the elements from the set\n",
    "my_set.clear()"
   ]
  },
  {
   "cell_type": "code",
   "execution_count": 17,
   "metadata": {},
   "outputs": [
    {
     "name": "stdout",
     "output_type": "stream",
     "text": [
      "set()\n"
     ]
    }
   ],
   "source": [
    "print(my_set) # the set is now empty"
   ]
  },
  {
   "cell_type": "code",
   "execution_count": 20,
   "metadata": {},
   "outputs": [
    {
     "name": "stdout",
     "output_type": "stream",
     "text": [
      "True\n",
      "True\n"
     ]
    }
   ],
   "source": [
    "## Set membership test\n",
    "my_set = {1, 2, 3, 4, 5}\n",
    "print(1 in my_set) # returns False\n",
    "print(1 in my_set) # returns True"
   ]
  },
  {
   "cell_type": "code",
   "execution_count": 22,
   "metadata": {},
   "outputs": [
    {
     "name": "stdout",
     "output_type": "stream",
     "text": [
      "{1, 2, 3, 4, 5, 6, 7, 8}\n",
      "{4, 5}\n",
      "{1, 2, 3}\n"
     ]
    }
   ],
   "source": [
    "## Math operations on sets\n",
    "my_set1 = {1, 2, 3, 4, 5}\n",
    "my_set2 = {4, 5, 6, 7, 8}\n",
    "print(my_set1.union(my_set2)) # returns a new set with all elements from both sets\n",
    "print(my_set1.intersection(my_set2)) # returns a new set with elements common to both sets\n",
    "print(my_set1.difference(my_set2)) # returns a new set with elements in my_set1 but not in my_set2"
   ]
  },
  {
   "cell_type": "code",
   "execution_count": 23,
   "metadata": {},
   "outputs": [
    {
     "name": "stdout",
     "output_type": "stream",
     "text": [
      "{1, 2, 3, 6, 7, 8}\n"
     ]
    }
   ],
   "source": [
    "## Symmetric difference returns a new set with elements in either set but not both\n",
    "print(my_set1.symmetric_difference(my_set2)) # returns a new set with elements in either set but not both"
   ]
  },
  {
   "cell_type": "code",
   "execution_count": 25,
   "metadata": {},
   "outputs": [
    {
     "name": "stdout",
     "output_type": "stream",
     "text": [
      "False\n",
      "False\n"
     ]
    }
   ],
   "source": [
    "## Sets Method\n",
    "\n",
    "set1 ={1,2,3}\n",
    "set2 ={3,4,5}\n",
    "print(set1.issubset(set2)) # returns False, set1 is not a subset of set2\n",
    "print(set1.issuperset(set2)) # returns False, set1 is not a superset of set2"
   ]
  },
  {
   "cell_type": "code",
   "execution_count": 29,
   "metadata": {},
   "outputs": [
    {
     "name": "stdout",
     "output_type": "stream",
     "text": [
      "{'name', 'yes', 'my', 'sami', 'is'}\n"
     ]
    }
   ],
   "source": [
    "### Counting unique elements in a list\n",
    "my_list = \"my name is sami yes sami\"\n",
    "my_set = set(my_list.split(\" \")) # convert list to set to get unique elements\n",
    "print(my_set) # returns {1, 2, 3, 4, 5}"
   ]
  },
  {
   "cell_type": "code",
   "execution_count": null,
   "metadata": {},
   "outputs": [],
   "source": []
  }
 ],
 "metadata": {
  "kernelspec": {
   "display_name": "Python 3",
   "language": "python",
   "name": "python3"
  },
  "language_info": {
   "codemirror_mode": {
    "name": "ipython",
    "version": 3
   },
   "file_extension": ".py",
   "mimetype": "text/x-python",
   "name": "python",
   "nbconvert_exporter": "python",
   "pygments_lexer": "ipython3",
   "version": "3.11.6"
  }
 },
 "nbformat": 4,
 "nbformat_minor": 2
}

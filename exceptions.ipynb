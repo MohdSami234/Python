{
 "cells": [
  {
   "cell_type": "markdown",
   "metadata": {},
   "source": [
    "##Understanding Exceptions."
   ]
  },
  {
   "cell_type": "markdown",
   "metadata": {},
   "source": [
    "Exeception handling in python allows you to handle errors gracefully and take corrective actions without stopping the exception of the program. This lesson will cover the basics of exceptions, including how to use try, except,else,and finally blocks."
   ]
  },
  {
   "cell_type": "markdown",
   "metadata": {},
   "source": [
    "## What are Exceptions?\n"
   ]
  },
  {
   "cell_type": "markdown",
   "metadata": {},
   "source": [
    "Exceptions are events that disrupt the normal flow of a program. They occur when an error is encountered during program excution. Common exception include:"
   ]
  },
  {
   "cell_type": "markdown",
   "metadata": {},
   "source": [
    "- ZeroDivisionError: Dividing by zero.\n",
    "- FileNotFoundError: File not found.\n",
    "- ValueError: Invalid value"
   ]
  },
  {
   "cell_type": "markdown",
   "metadata": {},
   "source": [
    "a = 10"
   ]
  },
  {
   "cell_type": "code",
   "execution_count": null,
   "metadata": {},
   "outputs": [],
   "source": []
  },
  {
   "cell_type": "code",
   "execution_count": null,
   "metadata": {},
   "outputs": [],
   "source": []
  },
  {
   "cell_type": "code",
   "execution_count": null,
   "metadata": {},
   "outputs": [],
   "source": []
  },
  {
   "cell_type": "code",
   "execution_count": null,
   "metadata": {},
   "outputs": [],
   "source": [
    "\n"
   ]
  },
  {
   "cell_type": "code",
   "execution_count": null,
   "metadata": {},
   "outputs": [],
   "source": [
    "\n"
   ]
  },
  {
   "cell_type": "code",
   "execution_count": 2,
   "metadata": {},
   "outputs": [
    {
     "name": "stdout",
     "output_type": "stream",
     "text": [
      "Exception caught\n"
     ]
    }
   ],
   "source": [
    "## Exception try, except block\n",
    "\n",
    "try:\n",
    "    a=b\n",
    "except:\n",
    "    \n",
    "    print(\"Exception caught\")"
   ]
  },
  {
   "cell_type": "code",
   "execution_count": 4,
   "metadata": {},
   "outputs": [
    {
     "name": "stdout",
     "output_type": "stream",
     "text": [
      "name 'b' is not defined\n"
     ]
    }
   ],
   "source": [
    "try:\n",
    "    a=b\n",
    "except NameError as e:\n",
    "    \n",
    "    print(e)"
   ]
  },
  {
   "cell_type": "code",
   "execution_count": 7,
   "metadata": {},
   "outputs": [
    {
     "name": "stdout",
     "output_type": "stream",
     "text": [
      "division by zero\n",
      "Please enter the denominator greater than 0\n"
     ]
    }
   ],
   "source": [
    "\n",
    "try:\n",
    "    result =1/0\n",
    "except ZeroDivisionError as e:\n",
    "    \n",
    "    print(e)\n",
    "    print(\"Please enter the denominator greater than 0\")"
   ]
  },
  {
   "cell_type": "code",
   "execution_count": 11,
   "metadata": {},
   "outputs": [
    {
     "name": "stdout",
     "output_type": "stream",
     "text": [
      "name 'b' is not defined\n",
      "Please enter the denominator greater than 0\n"
     ]
    }
   ],
   "source": [
    "try:\n",
    "    result =1/2\n",
    "    a=b\n",
    "except NameError as e:\n",
    "    \n",
    "    print(e)\n",
    "    print(\"Please enter the denominator greater than 0\")\n",
    "except ZeroDivisionError as e:\n",
    "        \n",
    "        print(e)\n",
    "        print(\"Please enter the denominator greater than 0\")"
   ]
  },
  {
   "cell_type": "code",
   "execution_count": 12,
   "metadata": {},
   "outputs": [
    {
     "name": "stdout",
     "output_type": "stream",
     "text": [
      "invalid literal for int() with base 10: '3434hfhgdkj'\n",
      "Please enter a valid number\n"
     ]
    }
   ],
   "source": [
    "try:\n",
    "    num = int(input(\"Enter a number: \"))\n",
    "except ValueError as e:\n",
    "    print(e)\n",
    "    print(\"Please enter a valid number\")"
   ]
  },
  {
   "cell_type": "code",
   "execution_count": 15,
   "metadata": {},
   "outputs": [
    {
     "name": "stdout",
     "output_type": "stream",
     "text": [
      "You entered a valid number: 34\n"
     ]
    }
   ],
   "source": [
    "## try,except,else block\n",
    "\n",
    "try:\n",
    "    num = int(input(\"Enter a number: \"))\n",
    "except ValueError as e:\n",
    "    print(e)\n",
    "    print(\"Please enter a valid number\")\n",
    "\n",
    "except Exception as e:\n",
    "    print(e)\n",
    "    print(\"Please enter a valid number\")\n",
    "\n",
    "else:\n",
    "    print(\"You entered a valid number:\", num)"
   ]
  },
  {
   "cell_type": "code",
   "execution_count": 17,
   "metadata": {},
   "outputs": [
    {
     "name": "stdout",
     "output_type": "stream",
     "text": [
      "invalid literal for int() with base 10: 'k34y'\n",
      "Please enter a valid number\n",
      "This block always executes, regardless of exceptions.\n"
     ]
    }
   ],
   "source": [
    "## Try, except, else and finally\n",
    "## try,except,else block\n",
    "\n",
    "try:\n",
    "    num = int(input(\"Enter a number: \"))\n",
    "except ValueError as e:\n",
    "    print(e)\n",
    "    print(\"Please enter a valid number\")\n",
    "\n",
    "except Exception as e:\n",
    "    print(e)\n",
    "    print(\"Please enter a valid number\")\n",
    "\n",
    "else:\n",
    "    print(\"You entered a valid number:\", num)\n",
    "finally:\n",
    "    print(\"This block always executes, regardless of exceptions.\")\n"
   ]
  },
  {
   "cell_type": "code",
   "execution_count": 19,
   "metadata": {},
   "outputs": [
    {
     "name": "stdout",
     "output_type": "stream",
     "text": [
      "[Errno 2] No such file or directory: 'non_existent_file.txt'\n",
      "File not found. Please check the file name and path.\n",
      "File was never opened, so no need to close it.\n"
     ]
    }
   ],
   "source": [
    "### File handling and Exceptions handling\n",
    "\n",
    "try:\n",
    "    file = open(\"non_existent_file.txt\", \"r\")\n",
    "    content = file.read()\n",
    "    print(content)\n",
    "except FileNotFoundError as e:\n",
    "    print(e)\n",
    "    print(\"File not found. Please check the file name and path.\")\n",
    "finally:\n",
    "    try:\n",
    "        file.close()\n",
    "    except NameError:\n",
    "        print(\"File was never opened, so no need to close it.\")\n",
    "    except Exception as e:\n",
    "        print(e)\n",
    "        print(\"An error occurred while closing the file.\")\n"
   ]
  },
  {
   "cell_type": "code",
   "execution_count": null,
   "metadata": {},
   "outputs": [],
   "source": []
  }
 ],
 "metadata": {
  "kernelspec": {
   "display_name": "Python 3",
   "language": "python",
   "name": "python3"
  },
  "language_info": {
   "codemirror_mode": {
    "name": "ipython",
    "version": 3
   },
   "file_extension": ".py",
   "mimetype": "text/x-python",
   "name": "python",
   "nbconvert_exporter": "python",
   "pygments_lexer": "ipython3",
   "version": "3.11.6"
  }
 },
 "nbformat": 4,
 "nbformat_minor": 2
}

{
 "cells": [
  {
   "cell_type": "markdown",
   "metadata": {},
   "source": [
    "## Classes and Objects\n",
    "\n",
    "Object-Oriented Programming(OOP) is a programming paradigm that uses \"objects\" to design to design applications and computer programs. OOP allow modeling real-world scenarios using classes and objects. This lesson covers the basics of creating  classes and objects , including instance variable and methods."
   ]
  },
  {
   "cell_type": "markdown",
   "metadata": {},
   "source": []
  },
  {
   "cell_type": "markdown",
   "metadata": {},
   "source": [
    "### A class is a blue print for creating objects. Attributes and methods"
   ]
  },
  {
   "cell_type": "code",
   "execution_count": 4,
   "metadata": {},
   "outputs": [],
   "source": [
    "class Car:\n",
    "    pass\n",
    "\n",
    "tata = Car()\n",
    "audi = Car()\n"
   ]
  },
  {
   "cell_type": "code",
   "execution_count": 5,
   "metadata": {},
   "outputs": [
    {
     "name": "stdout",
     "output_type": "stream",
     "text": [
      "<__main__.Car object at 0x0000018A5A79A890>\n",
      "<__main__.Car object at 0x0000018A5A22B0D0>\n",
      "<class '__main__.Car'>\n",
      "<class '__main__.Car'>\n"
     ]
    }
   ],
   "source": [
    "print(tata)\n",
    "print(audi)\n",
    "print(type(tata))\n",
    "print(type(audi))"
   ]
  },
  {
   "cell_type": "code",
   "execution_count": 6,
   "metadata": {},
   "outputs": [
    {
     "name": "stdout",
     "output_type": "stream",
     "text": [
      "<__main__.Car object at 0x0000018A5A22B0D0>\n"
     ]
    }
   ],
   "source": [
    "print(audi)"
   ]
  },
  {
   "cell_type": "code",
   "execution_count": 9,
   "metadata": {},
   "outputs": [
    {
     "name": "stdout",
     "output_type": "stream",
     "text": [
      "red\n",
      "blue\n"
     ]
    }
   ],
   "source": [
    "### Instance variables\n",
    "tata.color = \"red\"\n",
    "audi.color = \"blue\"\n",
    "print(tata.color)\n",
    "print(audi.color)"
   ]
  },
  {
   "cell_type": "code",
   "execution_count": 10,
   "metadata": {},
   "outputs": [
    {
     "data": {
      "text/plain": [
       "['__class__',\n",
       " '__delattr__',\n",
       " '__dict__',\n",
       " '__dir__',\n",
       " '__doc__',\n",
       " '__eq__',\n",
       " '__format__',\n",
       " '__ge__',\n",
       " '__getattribute__',\n",
       " '__getstate__',\n",
       " '__gt__',\n",
       " '__hash__',\n",
       " '__init__',\n",
       " '__init_subclass__',\n",
       " '__le__',\n",
       " '__lt__',\n",
       " '__module__',\n",
       " '__ne__',\n",
       " '__new__',\n",
       " '__reduce__',\n",
       " '__reduce_ex__',\n",
       " '__repr__',\n",
       " '__setattr__',\n",
       " '__sizeof__',\n",
       " '__str__',\n",
       " '__subclasshook__',\n",
       " '__weakref__',\n",
       " 'color']"
      ]
     },
     "execution_count": 10,
     "metadata": {},
     "output_type": "execute_result"
    }
   ],
   "source": [
    "dir(tata)    "
   ]
  },
  {
   "cell_type": "code",
   "execution_count": 13,
   "metadata": {},
   "outputs": [
    {
     "name": "stdout",
     "output_type": "stream",
     "text": [
      "Tommy 5\n",
      "Jerry 3\n"
     ]
    }
   ],
   "source": [
    "class Dog:\n",
    "    ##constructor\n",
    "    def __init__(self,name,age):\n",
    "        self.name = name\n",
    "        self.age = age\n",
    "\n",
    "## create objects\n",
    "\n",
    "dog1 = Dog(\"Tommy\", 5)\n",
    "dog2 = Dog(\"Jerry\", 3)\n",
    "\n",
    "print(dog1.name, dog1.age)\n",
    "print(dog2.name, dog2.age)\n",
    "    "
   ]
  },
  {
   "cell_type": "code",
   "execution_count": 17,
   "metadata": {},
   "outputs": [
    {
     "name": "stdout",
     "output_type": "stream",
     "text": [
      "Woof! Woof!\n",
      "None\n"
     ]
    }
   ],
   "source": [
    "## Define a class with methods\n",
    "\n",
    "class Dog:\n",
    "    ##constructor\n",
    "    def __init__(self,name,age):\n",
    "        self.name = name\n",
    "        self.age = age\n",
    "\n",
    "    def bark(self):\n",
    "        print(\"Woof! Woof!\")\n",
    "\n",
    "    def get_name(self):\n",
    "        return self.name\n",
    "\n",
    "dog1 = Dog(\"Tommy\", 5)\n",
    "print(dog1.bark())"
   ]
  },
  {
   "cell_type": "code",
   "execution_count": 31,
   "metadata": {},
   "outputs": [],
   "source": [
    "### Modeling a bank account \n",
    "\n",
    "## Define a class with bank account'\n",
    "\n",
    "class BankAccount:\n",
    "    def __init__(self,account_number, balance=0):\n",
    "        self.account_number = account_number\n",
    "        self.balance = balance\n",
    "    def deposit(self,amount):\n",
    "        self.balance =self.balance + amount\n",
    "        print(f\"Deposited {amount} to account {self.account_number}. New balance is {self.balance}.\")\n",
    "\n",
    "    def withdraw(self, amount):\n",
    "        if self.balance>=amount:\n",
    "           self.balance = self.balance - amount\n",
    "           print(f\"Withdrew {amount} from account {self.account_number}. New balance is {self.balance}.\")\n",
    "        else:\n",
    "            print(\"Insufficient funds\")\n",
    "    def get_balance(self):\n",
    "        return self.balance\n",
    "    "
   ]
  },
  {
   "cell_type": "code",
   "execution_count": 33,
   "metadata": {},
   "outputs": [
    {
     "name": "stdout",
     "output_type": "stream",
     "text": [
      "Deposited 500 to account 123456789. New balance is 1500.\n",
      "Withdrew 200 from account 123456789. New balance is 1300.\n",
      "Insufficient funds\n",
      "1300\n"
     ]
    }
   ],
   "source": [
    "user1 = BankAccount(\"123456789\", 1000)\n",
    "user1.deposit(500)\n",
    "user1.withdraw(200)\n",
    "user1.withdraw(2000) # insufficient funds\n",
    "print(user1.get_balance())\n"
   ]
  },
  {
   "cell_type": "code",
   "execution_count": null,
   "metadata": {},
   "outputs": [],
   "source": []
  }
 ],
 "metadata": {
  "kernelspec": {
   "display_name": "Python 3",
   "language": "python",
   "name": "python3"
  },
  "language_info": {
   "codemirror_mode": {
    "name": "ipython",
    "version": 3
   },
   "file_extension": ".py",
   "mimetype": "text/x-python",
   "name": "python",
   "nbconvert_exporter": "python",
   "pygments_lexer": "ipython3",
   "version": "3.11.6"
  }
 },
 "nbformat": 4,
 "nbformat_minor": 2
}

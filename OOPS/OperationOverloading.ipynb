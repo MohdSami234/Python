{
 "cells": [
  {
   "cell_type": "markdown",
   "metadata": {},
   "source": [
    "## Operator Overloading"
   ]
  },
  {
   "cell_type": "markdown",
   "metadata": {},
   "source": [
    "Operator overloading allows you to define the behavior of operators(+,-,*,etc) for custom objects. You achieve this by overriding specific magic methogs in your class."
   ]
  },
  {
   "cell_type": "code",
   "execution_count": 1,
   "metadata": {},
   "outputs": [
    {
     "data": {
      "text/plain": [
       "'\\n\\n__add__(self,other): Add two objects using + operator.\\n__sub__(self,other): Substract two objects using the - operator.\\n__mul__(self,other): Multiplies two objects using the * operator.\\n__truediv__(self,other): Divides two objects using the / operator.\\n__eq__(self,other): checks if two objects are equal using the == operator.\\n__lt__(self, other): Checks if one object is less than another using the < operator.\\n\\n\\n'"
      ]
     },
     "execution_count": 1,
     "metadata": {},
     "output_type": "execute_result"
    }
   ],
   "source": [
    "## Common Operator Overloading Magic Methods.\n",
    "\n",
    "'''\n",
    "\n",
    "__add__(self,other): Add two objects using + operator.\n",
    "__sub__(self,other): Substract two objects using the - operator.\n",
    "__mul__(self,other): Multiplies two objects using the * operator.\n",
    "__truediv__(self,other): Divides two objects using the / operator.\n",
    "__eq__(self,other): checks if two objects are equal using the == operator.\n",
    "__lt__(self, other): Checks if one object is less than another using the < operator.\n",
    "\n",
    "\n",
    "'''"
   ]
  },
  {
   "cell_type": "code",
   "execution_count": null,
   "metadata": {},
   "outputs": [],
   "source": [
    "## mathmatical operation for vector\n",
    "class Vector:\n",
    "    def __init__(self,x,y):\n",
    "        self.x = x\n",
    "        self.y = y\n",
    "\n",
    "    def __add__(self,other):\n",
    "        return Vector(self.x + other.x,self.y+other.y)\n",
    "    \n",
    "    def __sub__(self,other):\n",
    "        return Vector(self.x - other.x,self.y-other.y)\n",
    "    \n",
    "    def __mul__(self,other):\n",
    "        return Vector(self.x * other,self.y*other)\n",
    "    \n",
    "       \n",
    "    def __eq__(self,other):\n",
    "        return self.x == other.x and self.y ==other.y\n",
    "    \n",
    "    def __repr__(self):\n",
    "\n",
    "        return f\"Vector({self.x},{self.y})\"\n",
    "    \n",
    "    \n",
    "    \n",
    "    "
   ]
  },
  {
   "cell_type": "code",
   "execution_count": 5,
   "metadata": {},
   "outputs": [
    {
     "name": "stdout",
     "output_type": "stream",
     "text": [
      "Vector(6,9)\n",
      "Vector(-2,-1)\n",
      "Vector(8,16)\n"
     ]
    }
   ],
   "source": [
    "## Create objects of the Vector Class\n",
    "v1 = Vector(2,4)\n",
    "v2 = Vector(4,5)\n",
    "\n",
    "print(v1+v2)\n",
    "print(v1-v2)\n",
    "print(v1*4)\n",
    "\n",
    "\n"
   ]
  },
  {
   "cell_type": "code",
   "execution_count": 1,
   "metadata": {},
   "outputs": [],
   "source": [
    "## Practice - operation overloading for complex No"
   ]
  },
  {
   "cell_type": "code",
   "execution_count": null,
   "metadata": {},
   "outputs": [],
   "source": []
  }
 ],
 "metadata": {
  "kernelspec": {
   "display_name": "Python 3",
   "language": "python",
   "name": "python3"
  },
  "language_info": {
   "codemirror_mode": {
    "name": "ipython",
    "version": 3
   },
   "file_extension": ".py",
   "mimetype": "text/x-python",
   "name": "python",
   "nbconvert_exporter": "python",
   "pygments_lexer": "ipython3",
   "version": "3.11.6"
  }
 },
 "nbformat": 4,
 "nbformat_minor": 2
}

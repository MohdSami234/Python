{
 "cells": [
  {
   "cell_type": "markdown",
   "metadata": {},
   "source": [
    "## Magic Methods\n",
    "\n"
   ]
  },
  {
   "cell_type": "markdown",
   "metadata": {},
   "source": [
    "Magic method in Python , also known as dunder methods (double underscore methods), are special methods that start and end with double underscores. These methods enable you to define the behavior of the objects for build-in operations, such as arithmetic operations, camparisons, and more."
   ]
  },
  {
   "cell_type": "markdown",
   "metadata": {},
   "source": [
    "Magic methods are predefined methods in Python that you can override to change the behavior of your objects. Some common magic methods include:\n"
   ]
  },
  {
   "cell_type": "code",
   "execution_count": null,
   "metadata": {},
   "outputs": [],
   "source": [
    "'''__init__ : Initialized a new instance of a class.\n",
    "   __str__: Return a string representation of an object.\n",
    "   __repr__: Returns an official string representation of an object.\n",
    "   __len__: Returns the length of an object.\n",
    "   __getitem__: Gets an item from a container.\n",
    "   __setitem__: Sets an item in a container.\n",
    "\n",
    "'''"
   ]
  },
  {
   "cell_type": "code",
   "execution_count": 2,
   "metadata": {},
   "outputs": [
    {
     "name": "stdout",
     "output_type": "stream",
     "text": [
      "<__main__.Person object at 0x000002C56172A1D0>\n"
     ]
    }
   ],
   "source": [
    "class Person:\n",
    "    pass\n",
    "\n",
    "person  =  Person()\n",
    "print(person)"
   ]
  },
  {
   "cell_type": "code",
   "execution_count": 5,
   "metadata": {},
   "outputs": [
    {
     "name": "stdout",
     "output_type": "stream",
     "text": [
      "Krish,35 year old\n"
     ]
    }
   ],
   "source": [
    "## Basics Methods\n",
    "\n",
    "class Person:\n",
    "    def __init__(self, name, age):\n",
    "        self.name = name\n",
    "        self.age = age\n",
    "\n",
    "    def __str__(self):\n",
    "        return f\"{self.name},{self.age} year old\"\n",
    "    \n",
    "    def __repr__(self):\n",
    "        return f\"Person(name={self.name},age={self.age})\"\n",
    "    \n",
    "person = Person(\"Krish\",35)\n",
    "print(person)\n",
    "    \n"
   ]
  },
  {
   "cell_type": "code",
   "execution_count": null,
   "metadata": {},
   "outputs": [],
   "source": []
  }
 ],
 "metadata": {
  "kernelspec": {
   "display_name": "Python 3",
   "language": "python",
   "name": "python3"
  },
  "language_info": {
   "codemirror_mode": {
    "name": "ipython",
    "version": 3
   },
   "file_extension": ".py",
   "mimetype": "text/x-python",
   "name": "python",
   "nbconvert_exporter": "python",
   "pygments_lexer": "ipython3",
   "version": "3.11.6"
  }
 },
 "nbformat": 4,
 "nbformat_minor": 2
}

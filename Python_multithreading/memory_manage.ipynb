{
 "cells": [
  {
   "cell_type": "markdown",
   "metadata": {},
   "source": [
    "## Python Memory Management"
   ]
  },
  {
   "cell_type": "markdown",
   "metadata": {},
   "source": [
    "Memory management in Python involves a combination of automatic garbage collection, reference counting, and various internal optimizations to efficiently manage memory allocation and deallocation. Understanding these mechanisms can help developers write more efficient and robust applications."
   ]
  },
  {
   "cell_type": "markdown",
   "metadata": {},
   "source": [
    "1. Key Concepts in Python Memory Management\n",
    "2. Memory Allocation and Deallocation\n",
    "3. Reference Counting\n",
    "4. Garbage Collection\n",
    "5. The gc Module\n",
    "6. Memory Management Best Practices"
   ]
  },
  {
   "cell_type": "markdown",
   "metadata": {},
   "source": [
    "### Refrence Counting\n"
   ]
  },
  {
   "cell_type": "markdown",
   "metadata": {},
   "source": [
    "reference counting is the primary Python uses to manage memory. Each object in Python maintain a count of references pointing to it. When the reference count drop to zero, the memory occupied by the object is deallocated."
   ]
  },
  {
   "cell_type": "code",
   "execution_count": null,
   "metadata": {},
   "outputs": [
    {
     "name": "stdout",
     "output_type": "stream",
     "text": [
      "2\n"
     ]
    }
   ],
   "source": [
    "import  sys\n",
    "\n",
    "a=[]\n",
    "\n",
    "# one  from a and one from  getrefcount\n",
    "\n",
    "print(sys.getrefcount(a))"
   ]
  },
  {
   "cell_type": "code",
   "execution_count": 3,
   "metadata": {},
   "outputs": [
    {
     "name": "stdout",
     "output_type": "stream",
     "text": [
      "3\n"
     ]
    }
   ],
   "source": [
    "b=a\n",
    "print(sys.getrefcount(b))"
   ]
  },
  {
   "cell_type": "code",
   "execution_count": 6,
   "metadata": {},
   "outputs": [
    {
     "name": "stdout",
     "output_type": "stream",
     "text": [
      "2\n"
     ]
    }
   ],
   "source": [
    "# del b\n",
    "print(sys.getrefcount(a))"
   ]
  },
  {
   "cell_type": "markdown",
   "metadata": {},
   "source": [
    "## Garbage Collection\n",
    "\n",
    "Python includes a cyclic garbage collector to handle reference cycles. Reference cycles occur when objects reference each other, preventing their reference counts from reaching zero."
   ]
  },
  {
   "cell_type": "code",
   "execution_count": 7,
   "metadata": {},
   "outputs": [],
   "source": [
    "import gc\n",
    "\n",
    "gc.enable()"
   ]
  },
  {
   "cell_type": "code",
   "execution_count": 8,
   "metadata": {},
   "outputs": [],
   "source": [
    "gc.disable()"
   ]
  },
  {
   "cell_type": "code",
   "execution_count": 11,
   "metadata": {},
   "outputs": [
    {
     "data": {
      "text/plain": [
       "0"
      ]
     },
     "execution_count": 11,
     "metadata": {},
     "output_type": "execute_result"
    }
   ],
   "source": [
    "gc.collect()"
   ]
  },
  {
   "cell_type": "code",
   "execution_count": 12,
   "metadata": {},
   "outputs": [
    {
     "data": {
      "text/plain": [
       "0"
      ]
     },
     "execution_count": 12,
     "metadata": {},
     "output_type": "execute_result"
    }
   ],
   "source": [
    "gc.collect()"
   ]
  },
  {
   "cell_type": "code",
   "execution_count": 13,
   "metadata": {},
   "outputs": [
    {
     "name": "stdout",
     "output_type": "stream",
     "text": [
      "[{'collections': 228, 'collected': 1665, 'uncollectable': 0}, {'collections': 20, 'collected': 431, 'uncollectable': 0}, {'collections': 5, 'collected': 1051, 'uncollectable': 0}]\n"
     ]
    }
   ],
   "source": [
    "## Garbage  Collection stats\n",
    "print(gc.get_stats())"
   ]
  },
  {
   "cell_type": "code",
   "execution_count": 14,
   "metadata": {},
   "outputs": [
    {
     "name": "stdout",
     "output_type": "stream",
     "text": [
      "[]\n"
     ]
    }
   ],
   "source": [
    "### unreachable object\n",
    "\n",
    "print(gc.garbage)"
   ]
  },
  {
   "cell_type": "markdown",
   "metadata": {},
   "source": [
    "## Memory Management Best Practices\n",
    "\n",
    "1. Use Local Variables: Local variables have a shorter lifespan and are freed sooner than global variables.\n",
    "2. Avoid Circular References:  Circular reference can lead to memory leaks if not properly managed.\n",
    "3. Use Generators : Generators produce items one at a time and only keep one item in memoey at a time, making them memory efficient.\n",
    "4. Explicity Delete Objects: Use the del statement to delete varaibles and objects explicity.\n",
    "5. Profile Memory Usage: Use memory profiling tools like tracemalloc and memory_profiler to identify memory leaks and optimize memory usage."
   ]
  },
  {
   "cell_type": "code",
   "execution_count": 17,
   "metadata": {},
   "outputs": [
    {
     "name": "stdout",
     "output_type": "stream",
     "text": [
      "Object obj1 created\n",
      "Object obj2 created\n",
      "object obj1\n",
      "object obj2\n"
     ]
    },
    {
     "data": {
      "text/plain": [
       "9"
      ]
     },
     "execution_count": 17,
     "metadata": {},
     "output_type": "execute_result"
    }
   ],
   "source": [
    "import gc\n",
    "\n",
    "\n",
    "class MyObject:\n",
    "    def __init__(self,name):\n",
    "        self.name = name\n",
    "        print(f\"Object {self.name} created\")\n",
    "\n",
    "    def __del__(self):\n",
    "        print(f\"object {self.name}\")\n",
    "\n",
    "\n",
    "## Circular reference\n",
    "\n",
    "obj1 = MyObject(\"obj1\")\n",
    "obj2 = MyObject(\"obj2\")\n",
    "\n",
    "\n",
    "obj1.ref = obj2\n",
    "obj2.ref = obj1\n",
    "\n",
    "del obj1\n",
    "del obj2\n",
    "\n",
    "## manually trigger the garbase collection\n",
    "gc.collect()"
   ]
  },
  {
   "cell_type": "code",
   "execution_count": 18,
   "metadata": {},
   "outputs": [
    {
     "data": {
      "text/plain": [
       "[]"
      ]
     },
     "execution_count": 18,
     "metadata": {},
     "output_type": "execute_result"
    }
   ],
   "source": [
    "gc.garbage"
   ]
  },
  {
   "cell_type": "code",
   "execution_count": 20,
   "metadata": {},
   "outputs": [
    {
     "name": "stdout",
     "output_type": "stream",
     "text": [
      "0\n",
      "1\n",
      "2\n",
      "3\n",
      "4\n",
      "5\n",
      "6\n",
      "7\n",
      "8\n",
      "9\n",
      "10\n",
      "11\n"
     ]
    }
   ],
   "source": [
    "### Generators For memory Efficieny\n",
    "\n",
    "# Generator allow you to produce items one at a time, using memory efficeincy  by only keeping one item\n",
    "\n",
    "def generate_number(n):\n",
    "\n",
    "    for i in range(n):\n",
    "        yield i\n",
    "\n",
    "### using the geeneraot\n",
    "\n",
    "for num in generate_number(100000):\n",
    "    print(num)\n",
    "    if num>10:\n",
    "        break"
   ]
  },
  {
   "cell_type": "code",
   "execution_count": 23,
   "metadata": {},
   "outputs": [],
   "source": [
    "## Profiling memory uses with tracemalloc\n",
    "\n",
    "import tracemalloc\n",
    "\n",
    "def create_list():\n",
    "    return [i for i in range(1000)]\n",
    "\n",
    "def main():\n",
    "\n",
    "    tracemalloc.start()\n",
    "    create_list()\n",
    "\n",
    "    snapshot = tracemalloc.take_snapshot()\n",
    "    top_status =  snapshot.statistics('lineno')\n",
    "\n",
    "    print(\"[ Top 10]\")\n",
    "\n",
    "    for stat in top_status[::]:\n",
    "        print(stat)\n",
    "\n",
    "\n"
   ]
  },
  {
   "cell_type": "code",
   "execution_count": 24,
   "metadata": {},
   "outputs": [
    {
     "name": "stdout",
     "output_type": "stream",
     "text": [
      "[ Top 10]\n",
      "c:\\Users\\mohdsami\\AppData\\Local\\Programs\\Python\\Python311\\Lib\\asyncio\\selector_events.py:119: size=4235 B, count=3, average=1412 B\n",
      "c:\\Users\\mohdsami\\AppData\\Local\\Programs\\Python\\Python311\\Lib\\json\\decoder.py:353: size=3504 B, count=45, average=78 B\n",
      "C:\\Users\\mohdsami\\AppData\\Roaming\\Python\\Python311\\site-packages\\IPython\\core\\compilerop.py:174: size=3349 B, count=35, average=96 B\n",
      "c:\\Users\\mohdsami\\AppData\\Local\\Programs\\Python\\Python311\\Lib\\codeop.py:118: size=3088 B, count=35, average=88 B\n",
      "C:\\Users\\mohdsami\\AppData\\Roaming\\Python\\Python311\\site-packages\\zmq\\sugar\\attrsettr.py:45: size=2585 B, count=47, average=55 B\n",
      "C:\\Users\\mohdsami\\AppData\\Roaming\\Python\\Python311\\site-packages\\traitlets\\traitlets.py:731: size=1821 B, count=26, average=70 B\n",
      "c:\\Users\\mohdsami\\AppData\\Local\\Programs\\Python\\Python311\\Lib\\threading.py:265: size=1520 B, count=4, average=380 B\n",
      "C:\\Users\\mohdsami\\AppData\\Roaming\\Python\\Python311\\site-packages\\traitlets\\traitlets.py:1514: size=1320 B, count=11, average=120 B\n",
      "C:\\Users\\mohdsami\\AppData\\Roaming\\Python\\Python311\\site-packages\\jupyter_client\\jsonutil.py:111: size=1276 B, count=22, average=58 B\n",
      "C:\\Users\\mohdsami\\AppData\\Roaming\\Python\\Python311\\site-packages\\jupyter_client\\session.py:100: size=1243 B, count=8, average=155 B\n",
      "C:\\Users\\mohdsami\\AppData\\Roaming\\Python\\Python311\\site-packages\\traitlets\\traitlets.py:1543: size=1219 B, count=18, average=68 B\n",
      "C:\\Users\\mohdsami\\AppData\\Roaming\\Python\\Python311\\site-packages\\zmq\\sugar\\socket.py:814: size=1104 B, count=6, average=184 B\n",
      "C:\\Users\\mohdsami\\AppData\\Roaming\\Python\\Python311\\site-packages\\IPython\\core\\compilerop.py:86: size=1074 B, count=15, average=72 B\n",
      "C:\\Users\\mohdsami\\AppData\\Roaming\\Python\\Python311\\site-packages\\jupyter_client\\session.py:1057: size=892 B, count=7, average=127 B\n",
      "C:\\Users\\mohdsami\\AppData\\Roaming\\Python\\Python311\\site-packages\\ipykernel\\iostream.py:287: size=752 B, count=8, average=94 B\n",
      "C:\\Users\\mohdsami\\AppData\\Roaming\\Python\\Python311\\site-packages\\ipykernel\\iostream.py:346: size=720 B, count=10, average=72 B\n",
      "C:\\Users\\mohdsami\\AppData\\Roaming\\Python\\Python311\\site-packages\\jupyter_client\\jsonutil.py:75: size=624 B, count=3, average=208 B\n",
      "c:\\Users\\mohdsami\\AppData\\Local\\Programs\\Python\\Python311\\Lib\\inspect.py:2355: size=600 B, count=3, average=200 B\n",
      "c:\\Users\\mohdsami\\AppData\\Local\\Programs\\Python\\Python311\\Lib\\asyncio\\events.py:80: size=592 B, count=7, average=85 B\n",
      "C:\\Users\\mohdsami\\AppData\\Roaming\\Python\\Python311\\site-packages\\ipykernel\\iostream.py:276: size=576 B, count=6, average=96 B\n",
      "c:\\Users\\mohdsami\\AppData\\Local\\Programs\\Python\\Python311\\Lib\\threading.py:258: size=560 B, count=4, average=140 B\n",
      "C:\\Users\\mohdsami\\AppData\\Roaming\\Python\\Python311\\site-packages\\IPython\\core\\interactiveshell.py:3076: size=528 B, count=4, average=132 B\n",
      "C:\\Users\\mohdsami\\AppData\\Roaming\\Python\\Python311\\site-packages\\IPython\\core\\history.py:941: size=446 B, count=2, average=223 B\n",
      "c:\\Users\\mohdsami\\AppData\\Local\\Programs\\Python\\Python311\\Lib\\asyncio\\base_events.py:427: size=432 B, count=3, average=144 B\n",
      "C:\\Users\\mohdsami\\AppData\\Roaming\\Python\\Python311\\site-packages\\ipykernel\\kernelbase.py:775: size=432 B, count=2, average=216 B\n",
      "C:\\Users\\mohdsami\\AppData\\Roaming\\Python\\Python311\\site-packages\\IPython\\core\\history.py:942: size=391 B, count=1, average=391 B\n",
      "C:\\Users\\mohdsami\\AppData\\Roaming\\Python\\Python311\\site-packages\\IPython\\core\\interactiveshell.py:3306: size=384 B, count=1, average=384 B\n",
      "C:\\Users\\mohdsami\\AppData\\Roaming\\Python\\Python311\\site-packages\\ipykernel\\ipkernel.py:362: size=368 B, count=1, average=368 B\n",
      "c:\\Users\\mohdsami\\AppData\\Local\\Programs\\Python\\Python311\\Lib\\asyncio\\futures.py:418: size=360 B, count=9, average=40 B\n",
      "C:\\Users\\mohdsami\\AppData\\Roaming\\Python\\Python311\\site-packages\\ipykernel\\compiler.py:91: size=344 B, count=3, average=115 B\n",
      "c:\\Users\\mohdsami\\AppData\\Local\\Programs\\Python\\Python311\\Lib\\asyncio\\futures.py:394: size=304 B, count=2, average=152 B\n",
      "c:\\Users\\mohdsami\\AppData\\Local\\Programs\\Python\\Python311\\Lib\\asyncio\\futures.py:381: size=304 B, count=2, average=152 B\n",
      "C:\\Users\\mohdsami\\AppData\\Roaming\\Python\\Python311\\site-packages\\IPython\\core\\interactiveshell.py:3489: size=304 B, count=1, average=304 B\n",
      "C:\\Users\\mohdsami\\AppData\\Roaming\\Python\\Python311\\site-packages\\ipykernel\\zmqshell.py:549: size=288 B, count=4, average=72 B\n",
      "c:\\Users\\mohdsami\\AppData\\Local\\Programs\\Python\\Python311\\Lib\\asyncio\\base_events.py:781: size=288 B, count=3, average=96 B\n",
      "C:\\Users\\mohdsami\\AppData\\Roaming\\Python\\Python311\\site-packages\\tornado\\queues.py:248: size=288 B, count=2, average=144 B\n",
      "C:\\Users\\mohdsami\\AppData\\Roaming\\Python\\Python311\\site-packages\\ipykernel\\iostream.py:527: size=272 B, count=4, average=68 B\n",
      "C:\\Users\\mohdsami\\AppData\\Roaming\\Python\\Python311\\site-packages\\ipykernel\\kernelbase.py:534: size=272 B, count=1, average=272 B\n",
      "C:\\Users\\mohdsami\\AppData\\Roaming\\Python\\Python311\\site-packages\\ipykernel\\kernelbase.py:318: size=256 B, count=4, average=64 B\n",
      "C:\\Users\\mohdsami\\AppData\\Roaming\\Python\\Python311\\site-packages\\ipykernel\\kernelbase.py:435: size=256 B, count=1, average=256 B\n",
      "C:\\Users\\mohdsami\\AppData\\Roaming\\Python\\Python311\\site-packages\\ipykernel\\iostream.py:121: size=256 B, count=1, average=256 B\n",
      "C:\\Users\\mohdsami\\AppData\\Roaming\\Python\\Python311\\site-packages\\IPython\\core\\history.py:949: size=256 B, count=1, average=256 B\n",
      "C:\\Users\\mohdsami\\AppData\\Roaming\\Python\\Python311\\site-packages\\IPython\\core\\history.py:948: size=256 B, count=1, average=256 B\n",
      "c:\\Users\\mohdsami\\AppData\\Local\\Programs\\Python\\Python311\\Lib\\threading.py:101: size=240 B, count=4, average=60 B\n",
      "c:\\Users\\mohdsami\\AppData\\Local\\Programs\\Python\\Python311\\Lib\\logging\\__init__.py:1572: size=240 B, count=1, average=240 B\n",
      "C:\\Users\\mohdsami\\AppData\\Roaming\\Python\\Python311\\site-packages\\ipykernel\\kernelbase.py:545: size=240 B, count=1, average=240 B\n",
      "C:\\Users\\mohdsami\\AppData\\Roaming\\Python\\Python311\\site-packages\\IPython\\core\\interactiveshell.py:3195: size=224 B, count=4, average=56 B\n",
      "c:\\Users\\mohdsami\\AppData\\Local\\Programs\\Python\\Python311\\Lib\\re\\_compiler.py:759: size=208 B, count=1, average=208 B\n",
      "C:\\Users\\mohdsami\\AppData\\Roaming\\Python\\Python311\\site-packages\\jupyter_client\\session.py:1085: size=208 B, count=1, average=208 B\n",
      "C:\\Users\\mohdsami\\AppData\\Roaming\\Python\\Python311\\site-packages\\ipykernel\\kernelbase.py:770: size=208 B, count=1, average=208 B\n",
      "C:\\Users\\mohdsami\\AppData\\Roaming\\Python\\Python311\\site-packages\\jupyter_client\\session.py:688: size=194 B, count=2, average=97 B\n",
      "C:\\Users\\mohdsami\\AppData\\Roaming\\Python\\Python311\\site-packages\\IPython\\core\\interactiveshell.py:3196: size=192 B, count=4, average=48 B\n",
      "C:\\Users\\mohdsami\\AppData\\Roaming\\Python\\Python311\\site-packages\\zmq\\sugar\\socket.py:811: size=192 B, count=2, average=96 B\n",
      "C:\\Users\\mohdsami\\AppData\\Roaming\\Python\\Python311\\site-packages\\jupyter_client\\session.py:750: size=192 B, count=2, average=96 B\n",
      "C:\\Users\\mohdsami\\AppData\\Roaming\\Python\\Python311\\site-packages\\ipykernel\\kernelbase.py:1182: size=173 B, count=2, average=86 B\n",
      "c:\\Users\\mohdsami\\AppData\\Local\\Programs\\Python\\Python311\\Lib\\asyncio\\futures.py:387: size=152 B, count=1, average=152 B\n",
      "C:\\Users\\mohdsami\\AppData\\Roaming\\Python\\Python311\\site-packages\\ipykernel\\kernelbase.py:570: size=152 B, count=1, average=152 B\n",
      "C:\\Users\\mohdsami\\AppData\\Roaming\\Python\\Python311\\site-packages\\IPython\\core\\interactiveshell.py:3549: size=152 B, count=1, average=152 B\n",
      "C:\\Users\\mohdsami\\AppData\\Roaming\\Python\\Python311\\site-packages\\IPython\\core\\interactiveshell.py:3465: size=152 B, count=1, average=152 B\n",
      "C:\\Users\\mohdsami\\AppData\\Roaming\\Python\\Python311\\site-packages\\IPython\\core\\interactiveshell.py:3209: size=152 B, count=1, average=152 B\n",
      "C:\\Users\\mohdsami\\AppData\\Local\\Temp\\ipykernel_22472\\1073859475.py:8: size=152 B, count=1, average=152 B\n",
      "C:\\Users\\mohdsami\\AppData\\Local\\Temp\\ipykernel_22472\\1073859475.py:5: size=152 B, count=1, average=152 B\n",
      "C:\\Users\\mohdsami\\AppData\\Roaming\\Python\\Python311\\site-packages\\dateutil\\parser\\isoparser.py:146: size=144 B, count=3, average=48 B\n",
      "c:\\Users\\mohdsami\\AppData\\Local\\Programs\\Python\\Python311\\Lib\\threading.py:262: size=144 B, count=2, average=72 B\n",
      "c:\\Users\\mohdsami\\AppData\\Local\\Programs\\Python\\Python311\\Lib\\threading.py:254: size=144 B, count=2, average=72 B\n",
      "c:\\Users\\mohdsami\\AppData\\Local\\Programs\\Python\\Python311\\Lib\\threading.py:249: size=144 B, count=2, average=72 B\n",
      "c:\\Users\\mohdsami\\AppData\\Local\\Programs\\Python\\Python311\\Lib\\threading.py:248: size=144 B, count=2, average=72 B\n",
      "C:\\Users\\mohdsami\\AppData\\Roaming\\Python\\Python311\\site-packages\\tornado\\platform\\asyncio.py:235: size=144 B, count=2, average=72 B\n",
      "C:\\Users\\mohdsami\\AppData\\Roaming\\Python\\Python311\\site-packages\\ipykernel\\iostream.py:722: size=144 B, count=2, average=72 B\n",
      "c:\\Users\\mohdsami\\AppData\\Local\\Programs\\Python\\Python311\\Lib\\threading.py:320: size=120 B, count=2, average=60 B\n",
      "c:\\Users\\mohdsami\\AppData\\Local\\Programs\\Python\\Python311\\Lib\\inspect.py:257: size=120 B, count=1, average=120 B\n",
      "C:\\Users\\mohdsami\\AppData\\Roaming\\Python\\Python311\\site-packages\\jupyter_client\\session.py:672: size=120 B, count=1, average=120 B\n",
      "c:\\Users\\mohdsami\\AppData\\Local\\Programs\\Python\\Python311\\Lib\\concurrent\\futures\\_base.py:330: size=112 B, count=2, average=56 B\n",
      "C:\\Users\\mohdsami\\AppData\\Roaming\\Python\\Python311\\site-packages\\IPython\\core\\interactiveshell.py:3347: size=112 B, count=2, average=56 B\n",
      "c:\\Users\\mohdsami\\AppData\\Local\\Programs\\Python\\Python311\\Lib\\asyncio\\base_events.py:744: size=112 B, count=1, average=112 B\n",
      "C:\\Users\\mohdsami\\AppData\\Roaming\\Python\\Python311\\site-packages\\jupyter_client\\session.py:989: size=111 B, count=2, average=56 B\n",
      "C:\\Users\\mohdsami\\AppData\\Roaming\\Python\\Python311\\site-packages\\IPython\\core\\history.py:965: size=106 B, count=2, average=53 B\n",
      "c:\\Users\\mohdsami\\AppData\\Local\\Programs\\Python\\Python311\\Lib\\asyncio\\base_events.py:1906: size=96 B, count=3, average=32 B\n",
      "c:\\Users\\mohdsami\\AppData\\Local\\Programs\\Python\\Python311\\Lib\\warnings.py:189: size=96 B, count=1, average=96 B\n",
      "c:\\Users\\mohdsami\\AppData\\Local\\Programs\\Python\\Python311\\Lib\\fnmatch.py:46: size=80 B, count=1, average=80 B\n",
      "C:\\Users\\mohdsami\\AppData\\Roaming\\Python\\Python311\\site-packages\\IPython\\core\\history.py:994: size=80 B, count=1, average=80 B\n",
      "c:\\Users\\mohdsami\\AppData\\Local\\Programs\\Python\\Python311\\Lib\\concurrent\\futures\\_base.py:421: size=64 B, count=2, average=32 B\n",
      "C:\\Users\\mohdsami\\AppData\\Roaming\\Python\\Python311\\site-packages\\tornado\\queues.py:318: size=64 B, count=2, average=32 B\n",
      "c:\\Users\\mohdsami\\AppData\\Local\\Programs\\Python\\Python311\\Lib\\threading.py:626: size=64 B, count=1, average=64 B\n",
      "C:\\Users\\mohdsami\\AppData\\Roaming\\Python\\Python311\\site-packages\\zmq\\sugar\\socket.py:815: size=64 B, count=1, average=64 B\n",
      "C:\\Users\\mohdsami\\AppData\\Roaming\\Python\\Python311\\site-packages\\zmq\\eventloop\\zmqstream.py:550: size=64 B, count=1, average=64 B\n",
      "C:\\Users\\mohdsami\\AppData\\Roaming\\Python\\Python311\\site-packages\\traitlets\\traitlets.py:1540: size=64 B, count=1, average=64 B\n",
      "C:\\Users\\mohdsami\\AppData\\Roaming\\Python\\Python311\\site-packages\\ipykernel\\ipkernel.py:384: size=64 B, count=1, average=64 B\n",
      "C:\\Users\\mohdsami\\AppData\\Roaming\\Python\\Python311\\site-packages\\ipykernel\\ipkernel.py:383: size=64 B, count=1, average=64 B\n",
      "C:\\Users\\mohdsami\\AppData\\Roaming\\Python\\Python311\\site-packages\\ipykernel\\ipkernel.py:294: size=64 B, count=1, average=64 B\n",
      "C:\\Users\\mohdsami\\AppData\\Roaming\\Python\\Python311\\site-packages\\ipykernel\\ipkernel.py:291: size=64 B, count=1, average=64 B\n",
      "C:\\Users\\mohdsami\\AppData\\Roaming\\Python\\Python311\\site-packages\\IPython\\core\\interactiveshell.py:3538: size=64 B, count=1, average=64 B\n",
      "C:\\Users\\mohdsami\\AppData\\Roaming\\Python\\Python311\\site-packages\\IPython\\core\\interactiveshell.py:3275: size=64 B, count=1, average=64 B\n",
      "C:\\Users\\mohdsami\\AppData\\Roaming\\Python\\Python311\\site-packages\\IPython\\core\\interactiveshell.py:3272: size=64 B, count=1, average=64 B\n",
      "c:\\Users\\mohdsami\\AppData\\Local\\Programs\\Python\\Python311\\Lib\\fnmatch.py:185: size=60 B, count=1, average=60 B\n",
      "C:\\Users\\mohdsami\\AppData\\Roaming\\Python\\Python311\\site-packages\\ipykernel\\iostream.py:684: size=58 B, count=1, average=58 B\n",
      "C:\\Users\\mohdsami\\AppData\\Roaming\\Python\\Python311\\site-packages\\IPython\\core\\interactiveshell.py:3481: size=56 B, count=2, average=28 B\n",
      "C:\\Users\\mohdsami\\AppData\\Roaming\\Python\\Python311\\site-packages\\IPython\\core\\compilerop.py:172: size=56 B, count=2, average=28 B\n",
      "c:\\Users\\mohdsami\\AppData\\Local\\Programs\\Python\\Python311\\Lib\\fnmatch.py:52: size=56 B, count=1, average=56 B\n",
      "C:\\Users\\mohdsami\\AppData\\Roaming\\Python\\Python311\\site-packages\\traitlets\\traitlets.py:1534: size=56 B, count=1, average=56 B\n",
      "C:\\Users\\mohdsami\\AppData\\Roaming\\Python\\Python311\\site-packages\\IPython\\core\\completer.py:1110: size=56 B, count=1, average=56 B\n",
      "C:\\Users\\mohdsami\\AppData\\Roaming\\Python\\Python311\\site-packages\\zmq\\sugar\\attrsettr.py:29: size=55 B, count=1, average=55 B\n",
      "C:\\Users\\mohdsami\\AppData\\Roaming\\Python\\Python311\\site-packages\\IPython\\core\\prefilter.py:317: size=55 B, count=1, average=55 B\n",
      "<frozen ntpath>:66: size=52 B, count=1, average=52 B\n",
      "C:\\Users\\mohdsami\\AppData\\Roaming\\Python\\Python311\\site-packages\\jupyter_client\\session.py:200: size=48 B, count=1, average=48 B\n",
      "C:\\Users\\mohdsami\\AppData\\Roaming\\Python\\Python311\\site-packages\\IPython\\core\\interactiveshell.py:3477: size=48 B, count=1, average=48 B\n",
      "c:\\Users\\mohdsami\\AppData\\Local\\Programs\\Python\\Python311\\Lib\\queue.py:151: size=32 B, count=1, average=32 B\n",
      "c:\\Users\\mohdsami\\AppData\\Local\\Programs\\Python\\Python311\\Lib\\asyncio\\base_events.py:747: size=32 B, count=1, average=32 B\n",
      "C:\\Users\\mohdsami\\AppData\\Roaming\\Python\\Python311\\site-packages\\jupyter_client\\session.py:996: size=32 B, count=1, average=32 B\n",
      "C:\\Users\\mohdsami\\AppData\\Roaming\\Python\\Python311\\site-packages\\jupyter_client\\session.py:603: size=32 B, count=1, average=32 B\n",
      "C:\\Users\\mohdsami\\AppData\\Roaming\\Python\\Python311\\site-packages\\ipykernel\\iostream.py:637: size=32 B, count=1, average=32 B\n",
      "C:\\Users\\mohdsami\\AppData\\Roaming\\Python\\Python311\\site-packages\\ipykernel\\iostream.py:168: size=32 B, count=1, average=32 B\n",
      "C:\\Users\\mohdsami\\AppData\\Roaming\\Python\\Python311\\site-packages\\IPython\\core\\interactiveshell.py:3475: size=32 B, count=1, average=32 B\n",
      "C:\\Users\\mohdsami\\AppData\\Roaming\\Python\\Python311\\site-packages\\IPython\\core\\history.py:952: size=32 B, count=1, average=32 B\n",
      "C:\\Users\\mohdsami\\AppData\\Roaming\\Python\\Python311\\site-packages\\IPython\\core\\completer.py:2898: size=32 B, count=1, average=32 B\n",
      "C:\\Users\\mohdsami\\AppData\\Roaming\\Python\\Python311\\site-packages\\IPython\\core\\completer.py:871: size=32 B, count=1, average=32 B\n",
      "C:\\Users\\mohdsami\\AppData\\Roaming\\Python\\Python311\\site-packages\\IPython\\core\\compilerop.py:192: size=32 B, count=1, average=32 B\n",
      "c:\\Users\\mohdsami\\AppData\\Local\\Programs\\Python\\Python311\\Lib\\threading.py:1009: size=28 B, count=1, average=28 B\n",
      "C:\\Users\\mohdsami\\AppData\\Roaming\\Python\\Python311\\site-packages\\ipykernel\\kernelbase.py:560: size=28 B, count=1, average=28 B\n",
      "C:\\Users\\mohdsami\\AppData\\Roaming\\Python\\Python311\\site-packages\\IPython\\core\\interactiveshell.py:3457: size=8 B, count=1, average=8 B\n"
     ]
    }
   ],
   "source": [
    "main()"
   ]
  },
  {
   "cell_type": "code",
   "execution_count": null,
   "metadata": {},
   "outputs": [],
   "source": []
  }
 ],
 "metadata": {
  "kernelspec": {
   "display_name": "Python 3",
   "language": "python",
   "name": "python3"
  },
  "language_info": {
   "codemirror_mode": {
    "name": "ipython",
    "version": 3
   },
   "file_extension": ".py",
   "mimetype": "text/x-python",
   "name": "python",
   "nbconvert_exporter": "python",
   "pygments_lexer": "ipython3",
   "version": "3.11.6"
  }
 },
 "nbformat": 4,
 "nbformat_minor": 2
}

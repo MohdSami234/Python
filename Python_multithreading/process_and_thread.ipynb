{
 "cells": [
  {
   "cell_type": "code",
   "execution_count": null,
   "metadata": {
    "vscode": {
     "languageId": "plaintext"
    }
   },
   "outputs": [],
   "source": []
  },
  {
   "cell_type": "markdown",
   "metadata": {},
   "source": [
    "## Multi Threading and Multi Processing\n",
    "- Program-\n",
    "- Process\n",
    "- Thread\n",
    "- Example of Process and Thread\n",
    "\n",
    "  "
   ]
  },
  {
   "cell_type": "markdown",
   "metadata": {},
   "source": [
    "1. Program -  A Program is a sequence of Instructions written in Programming Language(e.g-c++, Pyth) ex- google chorome"
   ]
  },
  {
   "cell_type": "markdown",
   "metadata": {},
   "source": [
    "2. Process- \n",
    "A Process is simply an instance of program that is being  executed. Work with OS. \n",
    "\n",
    "Code segment | Data Segment |Heap - Separate memory space(*\n",
    " \n",
    ")\n",
    "\n",
    "Stack   | Register\n",
    "\n",
    "- One process can not corrupt another process.\n",
    " - Increate execution time to switch between processes\n",
    "\n",
    " Ex- browser\n",
    "\n"
   ]
  },
  {
   "cell_type": "markdown",
   "metadata": {},
   "source": []
  },
  {
   "cell_type": "markdown",
   "metadata": {},
   "source": [
    "## Thread -\n",
    "\n",
    "- Thread is a unit of execution within a process\n",
    "- Single thread process\n",
    "\n",
    "\n",
    "ex- MS PAINT -  []\n",
    "\n"
   ]
  },
  {
   "cell_type": "markdown",
   "metadata": {},
   "source": []
  }
 ],
 "metadata": {
  "language_info": {
   "name": "python"
  }
 },
 "nbformat": 4,
 "nbformat_minor": 2
}

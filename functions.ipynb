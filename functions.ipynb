{
 "cells": [
  {
   "cell_type": "markdown",
   "metadata": {},
   "source": [
    "## Function in Python\n",
    "- Introduction to Functions\n",
    "- Defining Functions\n",
    "- Calling Functions\n",
    "- Function Parameter\n",
    "- Default Parameter\n",
    "- Variable-Length Arguments\n",
    "- Return Statement"
   ]
  },
  {
   "cell_type": "markdown",
   "metadata": {},
   "source": [
    "## Def-\n",
    "\n",
    "A fuction is a block of code that performs a specific task. Functions help in organizing code, reusing code , and improving readability."
   ]
  },
  {
   "cell_type": "code",
   "execution_count": null,
   "metadata": {},
   "outputs": [],
   "source": [
    "#syntax\n",
    "def function_name(parameters):\n",
    "    \"\"\"\n",
    "    Docstring: This is a docstring.\n",
    "    \"\"\"\n",
    "    # Function body\n",
    "    pass\n"
   ]
  },
  {
   "cell_type": "code",
   "execution_count": 18,
   "metadata": {},
   "outputs": [
    {
     "name": "stdout",
     "output_type": "stream",
     "text": [
      "even\n",
      "odd\n"
     ]
    }
   ],
   "source": [
    "## why functions\n",
    "\n",
    "num = 24\n",
    "if num % 2 == 0:\n",
    "    print(\"even\")\n",
    "else:\n",
    "    print(\"odd\")\n",
    "\n",
    "\n",
    "\n",
    "num = 25\n",
    "if num % 2 == 0:\n",
    "    print(\"even\")   \n",
    "else:\n",
    "    print(\"odd\")\n",
    "\n"
   ]
  },
  {
   "cell_type": "code",
   "execution_count": 19,
   "metadata": {},
   "outputs": [
    {
     "name": "stdout",
     "output_type": "stream",
     "text": [
      "even\n",
      "odd\n"
     ]
    }
   ],
   "source": [
    "def even_or_odd(num):\n",
    "    \"\"\"\n",
    "    Docstring: This is a docstring.\n",
    "    \"\"\"\n",
    "    if num % 2 == 0:\n",
    "        return \"even\"\n",
    "    else:\n",
    "        return \"odd\"\n",
    "\n",
    "print(even_or_odd(24))  # even\n",
    "print(even_or_odd(25))  # odd"
   ]
  },
  {
   "cell_type": "code",
   "execution_count": 20,
   "metadata": {},
   "outputs": [
    {
     "name": "stdout",
     "output_type": "stream",
     "text": [
      "5\n"
     ]
    }
   ],
   "source": [
    "## Function with multiple parameters\n",
    "def add(a, b):\n",
    "    \"\"\"\n",
    "    Docstring: This is a docstring.\n",
    "    \"\"\"\n",
    "    return a + b\n",
    "\n",
    "print(add(2, 3))  # 5"
   ]
  },
  {
   "cell_type": "code",
   "execution_count": 21,
   "metadata": {},
   "outputs": [
    {
     "name": "stdout",
     "output_type": "stream",
     "text": [
      "2\n",
      "5\n"
     ]
    }
   ],
   "source": [
    "## Deafult Parameters\n",
    "def add(a, b=0):\n",
    "    \"\"\"\n",
    "    Docstring: This is a docstring.\n",
    "    \"\"\"\n",
    "    return a + b\n",
    "\n",
    "print(add(2))  # 2\n",
    "print(add(2, 3))  # 5\n",
    "\n"
   ]
  },
  {
   "cell_type": "code",
   "execution_count": 23,
   "metadata": {},
   "outputs": [
    {
     "name": "stdout",
     "output_type": "stream",
     "text": [
      "1 2 3 \n"
     ]
    },
    {
     "data": {
      "text/plain": [
       "6"
      ]
     },
     "execution_count": 23,
     "metadata": {},
     "output_type": "execute_result"
    }
   ],
   "source": [
    "### variable length arguments\n",
    "## positional arguments and keyword arguments\n",
    "\n",
    "def add(*args):  # positional arguments\n",
    "    sum =0\n",
    "    for num in args:\n",
    "        print(num, end=' ')\n",
    "        sum += num\n",
    "    print()\n",
    "    return sum\n",
    "\n",
    "    \n",
    "add(1, 2, 3) # (1, 2, 3) {}"
   ]
  },
  {
   "cell_type": "code",
   "execution_count": 24,
   "metadata": {},
   "outputs": [
    {
     "name": "stdout",
     "output_type": "stream",
     "text": [
      "a 1 b 2 c 3 \n"
     ]
    }
   ],
   "source": [
    "## keyword arguments\n",
    "\n",
    "def add(**kwargs):  # keyword arguments\n",
    "    for key, value in kwargs.items():\n",
    "        print(key, value, end=' ')\n",
    "    print()\n",
    "\n",
    "add(a=1, b=2, c=3) # {'a': 1, 'b': 2, 'c': 3} {}"
   ]
  },
  {
   "cell_type": "code",
   "execution_count": 25,
   "metadata": {},
   "outputs": [
    {
     "name": "stdout",
     "output_type": "stream",
     "text": [
      "Positional arguments: (1, 2, 3)\n",
      "Keyword arguments: {'a': 4, 'b': 5}\n"
     ]
    }
   ],
   "source": [
    "def print_details(*args, **kwargs):\n",
    "    print(\"Positional arguments:\", args)\n",
    "    print(\"Keyword arguments:\", kwargs)\n",
    "print_details(1, 2, 3, a=4, b=5)  # (1, 2, 3) {'a': 4, 'b': 5} {}"
   ]
  },
  {
   "cell_type": "code",
   "execution_count": 26,
   "metadata": {},
   "outputs": [
    {
     "name": "stdout",
     "output_type": "stream",
     "text": [
      "(6, 3)\n"
     ]
    }
   ],
   "source": [
    "## Return statement\n",
    "def multiply(a, b):\n",
    "    \"\"\"\n",
    "    Docstring: This is a docstring.\n",
    "    \"\"\"\n",
    "    return a * b,b\n",
    "\n",
    "\n",
    "print(multiply(2, 3))  # 6\n",
    "##print(multiply(2, 3, 4))  # TypeError: multiply() takes 2 positional arguments but 3 were given"
   ]
  },
  {
   "cell_type": "code",
   "execution_count": null,
   "metadata": {},
   "outputs": [],
   "source": []
  }
 ],
 "metadata": {
  "kernelspec": {
   "display_name": "Python 3",
   "language": "python",
   "name": "python3"
  },
  "language_info": {
   "codemirror_mode": {
    "name": "ipython",
    "version": 3
   },
   "file_extension": ".py",
   "mimetype": "text/x-python",
   "name": "python",
   "nbconvert_exporter": "python",
   "pygments_lexer": "ipython3",
   "version": "3.11.6"
  }
 },
 "nbformat": 4,
 "nbformat_minor": 2
}

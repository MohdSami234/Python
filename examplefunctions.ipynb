{
 "cells": [
  {
   "cell_type": "markdown",
   "metadata": {},
   "source": [
    "Functions Example"
   ]
  },
  {
   "cell_type": "markdown",
   "metadata": {},
   "source": [
    "Example 1: Temperature Conversion"
   ]
  },
  {
   "cell_type": "code",
   "execution_count": 6,
   "metadata": {},
   "outputs": [
    {
     "ename": "ValueError",
     "evalue": "Unit must be 'C' or 'F'",
     "output_type": "error",
     "traceback": [
      "\u001b[31m---------------------------------------------------------------------------\u001b[39m",
      "\u001b[31mValueError\u001b[39m                                Traceback (most recent call last)",
      "\u001b[36mCell\u001b[39m\u001b[36m \u001b[39m\u001b[32mIn[6]\u001b[39m\u001b[32m, line 19\u001b[39m\n\u001b[32m     16\u001b[39m     \u001b[38;5;28;01melse\u001b[39;00m:\n\u001b[32m     17\u001b[39m         \u001b[38;5;28;01mraise\u001b[39;00m \u001b[38;5;167;01mValueError\u001b[39;00m(\u001b[33m\"\u001b[39m\u001b[33mUnit must be \u001b[39m\u001b[33m'\u001b[39m\u001b[33mC\u001b[39m\u001b[33m'\u001b[39m\u001b[33m or \u001b[39m\u001b[33m'\u001b[39m\u001b[33mF\u001b[39m\u001b[33m'\u001b[39m\u001b[33m\"\u001b[39m)\n\u001b[32m---> \u001b[39m\u001b[32m19\u001b[39m \u001b[43mconvert_temp\u001b[49m\u001b[43m(\u001b[49m\u001b[32;43m100\u001b[39;49m\u001b[43m,\u001b[49m\u001b[43m \u001b[49m\u001b[33;43m'\u001b[39;49m\u001b[33;43mH\u001b[39;49m\u001b[33;43m'\u001b[39;49m\u001b[43m)\u001b[49m\n",
      "\u001b[36mCell\u001b[39m\u001b[36m \u001b[39m\u001b[32mIn[6]\u001b[39m\u001b[32m, line 17\u001b[39m, in \u001b[36mconvert_temp\u001b[39m\u001b[34m(temp, unit)\u001b[39m\n\u001b[32m     15\u001b[39m     \u001b[38;5;28;01mreturn\u001b[39;00m (temp - \u001b[32m32\u001b[39m) * \u001b[32m5\u001b[39m/\u001b[32m9\u001b[39m\n\u001b[32m     16\u001b[39m \u001b[38;5;28;01melse\u001b[39;00m:\n\u001b[32m---> \u001b[39m\u001b[32m17\u001b[39m     \u001b[38;5;28;01mraise\u001b[39;00m \u001b[38;5;167;01mValueError\u001b[39;00m(\u001b[33m\"\u001b[39m\u001b[33mUnit must be \u001b[39m\u001b[33m'\u001b[39m\u001b[33mC\u001b[39m\u001b[33m'\u001b[39m\u001b[33m or \u001b[39m\u001b[33m'\u001b[39m\u001b[33mF\u001b[39m\u001b[33m'\u001b[39m\u001b[33m\"\u001b[39m)\n",
      "\u001b[31mValueError\u001b[39m: Unit must be 'C' or 'F'"
     ]
    }
   ],
   "source": [
    "def convert_temp(temp,unit):\n",
    "    \"\"\"\n",
    "    Convert temperature between Celsius and Fahrenheit.\n",
    "    \n",
    "    Parameters:\n",
    "    temp (float): The temperature to convert.\n",
    "    unit (str): The unit of the input temperature, either 'C' for Celsius or 'F' for Fahrenheit.\n",
    "    \n",
    "    Returns:\n",
    "    float: The converted temperature.\n",
    "    \"\"\"\n",
    "    if unit == 'C':\n",
    "        return (temp * 9/5) + 32\n",
    "    elif unit == 'F':\n",
    "        return (temp - 32) * 5/9\n",
    "    else:\n",
    "        raise ValueError(\"Unit must be 'C' or 'F'\")\n",
    "\n",
    "convert_temp(100, 'H')"
   ]
  },
  {
   "cell_type": "markdown",
   "metadata": {},
   "source": [
    "Example 2: Password Stength Check"
   ]
  },
  {
   "cell_type": "code",
   "execution_count": 12,
   "metadata": {},
   "outputs": [
    {
     "name": "stdout",
     "output_type": "stream",
     "text": [
      "False\n"
     ]
    }
   ],
   "source": [
    "def is_stong_password(password):\n",
    "    \"\"\"\n",
    "    Check if a password is strong.\n",
    "    \n",
    "    A strong password must be at least 8 characters long and contain at least one uppercase letter,\n",
    "    one lowercase letter, one digit, and one special character.\n",
    "    \n",
    "    Parameters:\n",
    "    password (str): The password to check.\n",
    "    \n",
    "    Returns:\n",
    "    bool: True if the password is strong, False otherwise.\n",
    "    \"\"\"\n",
    "    \n",
    "    if len(password) < 8:\n",
    "        return False\n",
    "    \n",
    "    if not  any(c.isdigit() for c in password):\n",
    "        return False\n",
    "    if not any (c.islower() for c in password):\n",
    "        return False\n",
    "    if not any (c.isupper() for c in password):\n",
    "        return False\n",
    "    if not any (c in '!@#$%^&*()_+' for c in password):\n",
    "        return False\n",
    "    \n",
    "    return True\n",
    "\n",
    "print(is_stong_password('12345678'))\n",
    "\n",
    "   \n",
    "\n",
    " "
   ]
  },
  {
   "cell_type": "markdown",
   "metadata": {},
   "source": [
    "Example 3: Calculate the Total Cost Of Items In a Shopping Cart\n"
   ]
  },
  {
   "cell_type": "code",
   "execution_count": 17,
   "metadata": {},
   "outputs": [
    {
     "data": {
      "text/plain": [
       "7.75"
      ]
     },
     "execution_count": 17,
     "metadata": {},
     "output_type": "execute_result"
    }
   ],
   "source": [
    "def calculate_total_cost(cart):\n",
    "\n",
    "    total_cost =0.0\n",
    "    for fruit in cart:\n",
    "        total_cost= total_cost+(fruit[\"price\"]*fruit[\"quantity\"])\n",
    "    return total_cost\n",
    "\n",
    "    \n",
    "\n",
    "\n",
    "## Example cart data\n",
    "\n",
    "cart =[\n",
    "    {\"name\":\"Apple\", \"price\": 0.5, \"quantity\": 4},\n",
    "    {\"name\":\"Banana\", \"price\": 0.25, \"quantity\": 6},\n",
    "    {\"name\":\"Orange\", \"price\": 0.75, \"quantity\": 3},\n",
    "    {\"name\":\"Grapes\", \"price\": 2.0, \"quantity\": 1},\n",
    "]\n",
    "\n",
    "calculate_total_cost(cart)\n"
   ]
  },
  {
   "cell_type": "markdown",
   "metadata": {},
   "source": [
    "Example 4: Check if a string is Palindrame"
   ]
  },
  {
   "cell_type": "code",
   "execution_count": 22,
   "metadata": {},
   "outputs": [
    {
     "name": "stdout",
     "output_type": "stream",
     "text": [
      "True\n"
     ]
    }
   ],
   "source": [
    "def is_palindrome(s):\n",
    "    s = s.replace(\" \",\"\")\n",
    "\n",
    "    return s[::-1] ==s\n",
    "\n",
    "\n",
    "is_palindrome(\"racecarerewr\")\n",
    "\n",
    "print(is_palindrome(\"racecar\"))  # True"
   ]
  },
  {
   "cell_type": "markdown",
   "metadata": {},
   "source": [
    "Example 5: calculate the factorial of a number using recursion"
   ]
  },
  {
   "cell_type": "code",
   "execution_count": 25,
   "metadata": {},
   "outputs": [
    {
     "name": "stdout",
     "output_type": "stream",
     "text": [
      "120\n"
     ]
    }
   ],
   "source": [
    "def factorial(n):\n",
    "    if n==0:\n",
    "        return 1\n",
    "    else:\n",
    "        return n*factorial(n-1)\n",
    "    \n",
    "print(factorial(5))"
   ]
  },
  {
   "cell_type": "markdown",
   "metadata": {},
   "source": [
    "Example 6 : A Function To Read A file and count the frequency of each word\n"
   ]
  },
  {
   "cell_type": "code",
   "execution_count": 27,
   "metadata": {},
   "outputs": [
    {
     "data": {
      "text/plain": [
       "{'my': 1, 'name': 1, 'is': 1, 'sami': 1}"
      ]
     },
     "execution_count": 27,
     "metadata": {},
     "output_type": "execute_result"
    }
   ],
   "source": [
    "def count_word_frequency(text):\n",
    "    \"\"\"\n",
    "    Count the frequency of each word in a given text.\n",
    "    \n",
    "    Parameters:\n",
    "    text (str): The input text.\n",
    "    \n",
    "    Returns:\n",
    "    dict: A dictionary with words as keys and their frequencies as values.\n",
    "    \"\"\"\n",
    "    word_count = {\n",
    "    }\n",
    "    with open(text, 'r') as file:\n",
    "        for line in file:\n",
    "            words = line.split()\n",
    "            for word in words:\n",
    "                word = word.lower()\n",
    "                if word in word_count:\n",
    "                    word_count[word] += 1\n",
    "                else:\n",
    "                    word_count[word] = 1\n",
    "    return word_count\n",
    "\n",
    "\n",
    "count_word_frequency(\"sample.txt\")\n",
    "\n",
    "        \n",
    "\n",
    "       "
   ]
  },
  {
   "cell_type": "code",
   "execution_count": null,
   "metadata": {},
   "outputs": [],
   "source": []
  }
 ],
 "metadata": {
  "kernelspec": {
   "display_name": "Python 3",
   "language": "python",
   "name": "python3"
  },
  "language_info": {
   "codemirror_mode": {
    "name": "ipython",
    "version": 3
   },
   "file_extension": ".py",
   "mimetype": "text/x-python",
   "name": "python",
   "nbconvert_exporter": "python",
   "pygments_lexer": "ipython3",
   "version": "3.11.6"
  }
 },
 "nbformat": 4,
 "nbformat_minor": 2
}

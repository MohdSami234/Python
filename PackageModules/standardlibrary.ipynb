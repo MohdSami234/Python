{
 "cells": [
  {
   "cell_type": "markdown",
   "metadata": {},
   "source": [
    "##Standard Library Overview\n",
    "\n",
    "Python's Standard Library is a vast collection of modules and packages that come bundled with Python, Providing a wide range of functionalities out of the box. Here an overview of some of the most commonly used modules and packages in the Python Standard Library.\n"
   ]
  },
  {
   "cell_type": "code",
   "execution_count": 2,
   "metadata": {},
   "outputs": [
    {
     "name": "stdout",
     "output_type": "stream",
     "text": [
      "array('i', [1, 2, 3, 4, 5])\n"
     ]
    }
   ],
   "source": [
    "import array\n",
    "arr = array.array('i',[1,2,3,4,5])\n",
    "print(arr)"
   ]
  },
  {
   "cell_type": "code",
   "execution_count": 3,
   "metadata": {},
   "outputs": [
    {
     "name": "stdout",
     "output_type": "stream",
     "text": [
      "4.0\n",
      "3.141592653589793\n"
     ]
    }
   ],
   "source": [
    "import math\n",
    "print(math.sqrt(16))\n",
    "print(math.pi)\n"
   ]
  },
  {
   "cell_type": "code",
   "execution_count": 7,
   "metadata": {},
   "outputs": [
    {
     "name": "stdout",
     "output_type": "stream",
     "text": [
      "8\n",
      "apple\n"
     ]
    }
   ],
   "source": [
    "## random\n",
    "\n",
    "import random\n",
    "print(random.randint(1, 10))  # Random integer between 1 and 10\n",
    "print(random.choice(['apple', 'banana', 'cherry']))  # Random choice from a list"
   ]
  },
  {
   "cell_type": "code",
   "execution_count": 8,
   "metadata": {},
   "outputs": [
    {
     "name": "stdout",
     "output_type": "stream",
     "text": [
      "d:\\Machine Learning\\PackageModules\n"
     ]
    }
   ],
   "source": [
    "## File and Directory Operations\n",
    "\n",
    "import os\n",
    "print(os.getcwd())  # Get current working directory"
   ]
  },
  {
   "cell_type": "code",
   "execution_count": 9,
   "metadata": {},
   "outputs": [],
   "source": [
    "os.makedirs('new_dir', exist_ok=True)  # Create a new directory"
   ]
  },
  {
   "cell_type": "code",
   "execution_count": 15,
   "metadata": {},
   "outputs": [
    {
     "data": {
      "text/plain": [
       "'destination.txt'"
      ]
     },
     "execution_count": 15,
     "metadata": {},
     "output_type": "execute_result"
    }
   ],
   "source": [
    "## High Level  Operations on files and collection of files\n",
    "\n",
    "import shutil\n",
    "# shutil.copy('/venv/requirement.txt', 'destination.txt')  # Copy a file\n",
    "\n",
    "shutil.copyfile('source.txt', 'destination.txt')  # Copy a file to another file"
   ]
  },
  {
   "cell_type": "code",
   "execution_count": 21,
   "metadata": {},
   "outputs": [
    {
     "name": "stdout",
     "output_type": "stream",
     "text": [
      "{'name': 'Alice', 'age': 30}\n",
      "<class 'dict'>\n",
      "<class 'str'>\n",
      "{'name': 'Alice', 'age': 30}\n",
      "<class 'dict'>\n"
     ]
    }
   ],
   "source": [
    "## Data Serialization\n",
    "\n",
    "import json\n",
    "data = {'name': 'Alice', 'age': 30}\n",
    "print(data)\n",
    "print(type(data))  # Print the type of data\n",
    "json_string = json.dumps(data)  # Serialize to JSON string\n",
    "print(type(json_string))\n",
    "\n",
    "parsedata = json.loads(json_string)\n",
    "\n",
    "print(parsedata)  # Deserialize back to Python object\n",
    "print(type(parsedata))  # Print the type of parsed data"
   ]
  },
  {
   "cell_type": "code",
   "execution_count": 23,
   "metadata": {},
   "outputs": [
    {
     "name": "stdout",
     "output_type": "stream",
     "text": [
      "['Name', 'Age']\n",
      "['Alice', '30']\n",
      "['Bob', '25']\n"
     ]
    }
   ],
   "source": [
    "## CSV file\n",
    "\n",
    "import csv\n",
    "with open('data.csv', mode='w', newline='') as file:\n",
    "    writer = csv.writer(file)\n",
    "    writer.writerow(['Name', 'Age'])\n",
    "    writer.writerow(['Alice', 30])\n",
    "    writer.writerow(['Bob', 25])\n",
    "\n",
    "with open(\"data.csv\", mode='r') as file:\n",
    "    reader = csv.reader(file)\n",
    "    for row in reader:\n",
    "        print(row)  # Print each row in the CSV file"
   ]
  },
  {
   "cell_type": "code",
   "execution_count": 24,
   "metadata": {},
   "outputs": [
    {
     "name": "stdout",
     "output_type": "stream",
     "text": [
      "2025-04-10 12:49:45.194399\n",
      "2025-04-09 12:49:45.194399\n"
     ]
    }
   ],
   "source": [
    "## datetime\n",
    "\n",
    "from datetime import datetime,timedelta\n",
    "now = datetime.now()\n",
    "print(now)\n",
    "\n",
    "yesterday = now - timedelta(days=1)\n",
    "print(yesterday)"
   ]
  },
  {
   "cell_type": "code",
   "execution_count": 26,
   "metadata": {},
   "outputs": [
    {
     "name": "stdout",
     "output_type": "stream",
     "text": [
      "Slept for 2 seconds\n",
      "1744269674.1680558\n"
     ]
    }
   ],
   "source": [
    "## time\n",
    "\n",
    "import time\n",
    "time.sleep(2)  # Sleep for 2 seconds\n",
    "print(\"Slept for 2 seconds\")\n",
    "print(time.time())"
   ]
  },
  {
   "cell_type": "code",
   "execution_count": 28,
   "metadata": {},
   "outputs": [
    {
     "name": "stdout",
     "output_type": "stream",
     "text": [
      "Found: 123\n"
     ]
    }
   ],
   "source": [
    "## Regular Expressions\n",
    "\n",
    "import re\n",
    "pattern =r'\\d+'\n",
    "text = \"There are 123 apples\"\n",
    "match = re.search(pattern, text)\n",
    "if match:\n",
    "    print(\"Found:\", match.group())  # Print the matched number"
   ]
  },
  {
   "cell_type": "code",
   "execution_count": null,
   "metadata": {},
   "outputs": [],
   "source": []
  }
 ],
 "metadata": {
  "kernelspec": {
   "display_name": "Python 3",
   "language": "python",
   "name": "python3"
  },
  "language_info": {
   "codemirror_mode": {
    "name": "ipython",
    "version": 3
   },
   "file_extension": ".py",
   "mimetype": "text/x-python",
   "name": "python",
   "nbconvert_exporter": "python",
   "pygments_lexer": "ipython3",
   "version": "3.11.6"
  }
 },
 "nbformat": 4,
 "nbformat_minor": 2
}

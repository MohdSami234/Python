{
 "cells": [
  {
   "cell_type": "markdown",
   "metadata": {},
   "source": [
    "## SQL And SQLite\n",
    "\n",
    "SQL (Structure Query Language) is a standard language for managing and manipulating relational databases.\n",
    "SQLite is a self-contained, serverless ,and zero-configuration database engine that is widely used for embedded database systems. In this lesson, we will cover the basics of SQL and SQlite , including creating databases, tables and performing various SQL Operations>"
   ]
  },
  {
   "cell_type": "code",
   "execution_count": 1,
   "metadata": {},
   "outputs": [],
   "source": [
    "import sqlite3"
   ]
  },
  {
   "cell_type": "code",
   "execution_count": 2,
   "metadata": {},
   "outputs": [
    {
     "data": {
      "text/plain": [
       "<sqlite3.Connection at 0x1b2ea343880>"
      ]
     },
     "execution_count": 2,
     "metadata": {},
     "output_type": "execute_result"
    }
   ],
   "source": [
    "##Connect to an SQL database\n",
    "connection = sqlite3.connect('example.db')\n",
    "connection"
   ]
  },
  {
   "cell_type": "code",
   "execution_count": 4,
   "metadata": {},
   "outputs": [],
   "source": [
    "curson = connection.cursor()"
   ]
  },
  {
   "cell_type": "code",
   "execution_count": 5,
   "metadata": {},
   "outputs": [],
   "source": [
    "## create a table\n",
    "\n",
    "curson.execute('''\n",
    "Create Table If Not Exists Employees(\n",
    "        id integer Primary Key,\n",
    "        name Text Not Null,\n",
    "        age Integer,\n",
    "        department text\n",
    "        )\n",
    "\n",
    "\n",
    "''')\n",
    "\n",
    "## Commit the change\n",
    "\n",
    "connection.commit()"
   ]
  },
  {
   "cell_type": "code",
   "execution_count": 7,
   "metadata": {},
   "outputs": [
    {
     "data": {
      "text/plain": [
       "<sqlite3.Cursor at 0x1b2ea51b040>"
      ]
     },
     "execution_count": 7,
     "metadata": {},
     "output_type": "execute_result"
    }
   ],
   "source": [
    "curson.execute('''\n",
    " Select * from employees\n",
    "\n",
    "''')"
   ]
  },
  {
   "cell_type": "code",
   "execution_count": 9,
   "metadata": {},
   "outputs": [],
   "source": [
    "## Insert the data in sqlite table\n",
    "\n",
    "curson.execute('''\n",
    "Insert InTo employees(name,age,department)\n",
    "               values('Sami',25,'Engineering')\n",
    "\n",
    "''')\n",
    "\n",
    "connection.commit()"
   ]
  },
  {
   "cell_type": "code",
   "execution_count": 15,
   "metadata": {},
   "outputs": [
    {
     "name": "stdout",
     "output_type": "stream",
     "text": [
      "(1, 'Sami', 26, 'Engineering')\n",
      "(2, 'Sami', 26, 'Engineering')\n"
     ]
    }
   ],
   "source": [
    "curson.execute('Select * from employees')\n",
    "rows = curson.fetchall()\n",
    "for row in rows:\n",
    "    print(row)"
   ]
  },
  {
   "cell_type": "code",
   "execution_count": 14,
   "metadata": {},
   "outputs": [],
   "source": [
    "## Update data in the table\n",
    "\n",
    "\n",
    "curson.execute('''\n",
    "\n",
    "UPDATE employees\n",
    "Set age=26\n",
    "where name='Sami'\n",
    "\n",
    "''')\n",
    "connection.commit()"
   ]
  },
  {
   "cell_type": "code",
   "execution_count": 19,
   "metadata": {},
   "outputs": [],
   "source": [
    "## Delete the data from the table\n",
    "\n",
    "curson.execute(''' \n",
    "\n",
    "Delete from employees\n",
    "               where name = 'Sami'\n",
    "\n",
    "\n",
    "''')\n",
    "\n",
    "connection.commit()"
   ]
  },
  {
   "cell_type": "code",
   "execution_count": 20,
   "metadata": {},
   "outputs": [],
   "source": [
    "curson.execute('Select * from employees')\n",
    "rows = curson.fetchall()\n",
    "for row in rows:\n",
    "    print(row)"
   ]
  },
  {
   "cell_type": "code",
   "execution_count": null,
   "metadata": {},
   "outputs": [],
   "source": [
    "## Working with sales Data"
   ]
  }
 ],
 "metadata": {
  "kernelspec": {
   "display_name": "Python 3",
   "language": "python",
   "name": "python3"
  },
  "language_info": {
   "codemirror_mode": {
    "name": "ipython",
    "version": 3
   },
   "file_extension": ".py",
   "mimetype": "text/x-python",
   "name": "python",
   "nbconvert_exporter": "python",
   "pygments_lexer": "ipython3",
   "version": "3.11.6"
  }
 },
 "nbformat": 4,
 "nbformat_minor": 2
}

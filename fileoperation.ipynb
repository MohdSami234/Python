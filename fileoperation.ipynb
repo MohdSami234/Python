{
 "cells": [
  {
   "cell_type": "markdown",
   "metadata": {},
   "source": [
    "##File Operation - Read and Write Files"
   ]
  },
  {
   "cell_type": "markdown",
   "metadata": {},
   "source": [
    "File handling is a crucial part of any programming language. Python provide built-in functions and methods to read from and write to files, both text and binary. This lesson will cover the basics of the file handling of file handling , including reading and writing text files and binary files."
   ]
  },
  {
   "cell_type": "code",
   "execution_count": 7,
   "metadata": {},
   "outputs": [
    {
     "name": "stdout",
     "output_type": "stream",
     "text": [
      "my name is sami\n"
     ]
    }
   ],
   "source": [
    "### Read a whole file\n",
    "\n",
    "with open('sample.txt','r') as file:\n",
    "    content = file.read()\n",
    "    print(content)\n",
    "    for line in file:\n",
    "        print(line.strip())"
   ]
  },
  {
   "cell_type": "code",
   "execution_count": 11,
   "metadata": {},
   "outputs": [
    {
     "name": "stdout",
     "output_type": "stream",
     "text": [
      "This is a new line\n",
      "This is another new line\n"
     ]
    }
   ],
   "source": [
    "\n",
    "## Read a file line by line\n",
    "\n",
    "with open('sample.txt','r') as file:\n",
    "    for line in file:\n",
    "        print(line.strip())"
   ]
  },
  {
   "cell_type": "code",
   "execution_count": 10,
   "metadata": {},
   "outputs": [],
   "source": [
    "## Writing a file(Ovrewrite)\n",
    "\n",
    "with open('sample.txt','w') as file:\n",
    "    file.write('This is a new line\\n')\n",
    "    file.write('This is another new line\\n')"
   ]
  },
  {
   "cell_type": "code",
   "execution_count": 12,
   "metadata": {},
   "outputs": [],
   "source": [
    "## Write a file (Append)\n",
    "with open('sample.txt','a') as file:\n",
    "    file.write('This is a new line\\n')\n",
    "    file.write('This is another new line\\n')"
   ]
  },
  {
   "cell_type": "code",
   "execution_count": null,
   "metadata": {},
   "outputs": [],
   "source": [
    "## Writing a list of lines to a file\n",
    "\n",
    "lines = ['This is line 1\\n', 'This is line 2\\n', 'This is line 3\\n']\n",
    "with open('sample.txt','a') as file:\n",
    "    file.writelines(lines)\n",
    "\n"
   ]
  },
  {
   "cell_type": "code",
   "execution_count": 18,
   "metadata": {},
   "outputs": [
    {
     "name": "stdout",
     "output_type": "stream",
     "text": [
      "b'This is a new line\\nThis is another new line\\n'\n"
     ]
    }
   ],
   "source": [
    "### Binary files\n",
    "with open('sample.txt','wb') as file:\n",
    "    file.write(b'This is a new line\\n')\n",
    "    file.write(b'This is another new line\\n')\n",
    "\n",
    "with open('sample.txt','rb') as file:\n",
    "    content = file.read()\n",
    "    print(content)\n",
    "    for line in file:\n",
    "        print(line.strip())"
   ]
  },
  {
   "cell_type": "code",
   "execution_count": 19,
   "metadata": {},
   "outputs": [],
   "source": [
    "### Read the content from source text file and write to a destination text file.\n",
    "\n",
    "## Copying a file\n",
    "\n",
    "\n",
    "with open('sample.txt','r') as source_file:\n",
    "    with open('destination.txt','w') as destination_file:\n",
    "        for line in source_file:\n",
    "            destination_file.write(line)"
   ]
  },
  {
   "cell_type": "code",
   "execution_count": 20,
   "metadata": {},
   "outputs": [
    {
     "name": "stdout",
     "output_type": "stream",
     "text": [
      "Directory 'new_directory' created\n"
     ]
    }
   ],
   "source": [
    "## Create a new directory and copy a file to that directory.\n",
    "import os\n",
    "new_directory = 'new_directory'\n",
    "os.mkdir(new_directory)\n",
    "print(f\"Directory '{new_directory}' created\")"
   ]
  },
  {
   "cell_type": "code",
   "execution_count": 22,
   "metadata": {},
   "outputs": [
    {
     "name": "stdout",
     "output_type": "stream",
     "text": [
      "Items in the current directory:\n",
      ".git\n",
      "condition_statement.ipynb\n",
      "Data Structure\n",
      "destination.txt\n",
      "examplefunctions.ipynb\n",
      "fileoperation.ipynb\n",
      "filterFunctions.ipynb\n",
      "functions.ipynb\n",
      "Lambda.ipynb\n",
      "Loops.ipynb\n",
      "MapFunction.ipynb\n",
      "new_directory\n",
      "sample.txt\n"
     ]
    }
   ],
   "source": [
    "## Listing Files and And Directories\n",
    "\n",
    "\n",
    "items = os.listdir('.')\n",
    "print(\"Items in the current directory:\")\n",
    "for item in items:\n",
    "    print(item)"
   ]
  },
  {
   "cell_type": "code",
   "execution_count": 24,
   "metadata": {},
   "outputs": [
    {
     "name": "stdout",
     "output_type": "stream",
     "text": [
      "Full path: d:\\Machine Learning\\Python\\folder\\file.txt\n"
     ]
    }
   ],
   "source": [
    "### Joining Paths\n",
    "\n",
    "dir_name =\"folder\"\n",
    "file_name = \"file.txt\"\n",
    "\n",
    "full_path = os.path.join(os.getcwd(),dir_name, file_name)\n",
    "print(f\"Full path: {full_path}\")"
   ]
  },
  {
   "cell_type": "code",
   "execution_count": null,
   "metadata": {},
   "outputs": [
    {
     "name": "stdout",
     "output_type": "stream",
     "text": [
      "example.txt does not exist\n"
     ]
    }
   ],
   "source": [
    "path= \"example.txt\"\n",
    "if os.path.exists(path):\n",
    "    print(f\"{path} exists\")\n",
    "else:\n",
    "    \n",
    "    print(f\"{path} does not exist\")"
   ]
  },
  {
   "cell_type": "code",
   "execution_count": 28,
   "metadata": {},
   "outputs": [
    {
     "name": "stdout",
     "output_type": "stream",
     "text": [
      "new_directory is a directory\n"
     ]
    }
   ],
   "source": [
    "## Check if a path is a file or directory\n",
    "path = \"new_directory\"\n",
    "if os.path.isfile(path):\n",
    "    print(f\"{path} is a file\")\n",
    "elif os.path.isdir(path):\n",
    "    print(f\"{path} is a directory\")"
   ]
  },
  {
   "cell_type": "code",
   "execution_count": 29,
   "metadata": {},
   "outputs": [
    {
     "name": "stdout",
     "output_type": "stream",
     "text": [
      "Absolute path of sample.txt is d:\\Machine Learning\\Python\\sample.txt\n"
     ]
    }
   ],
   "source": [
    "## Getting the absolute path of a file\n",
    "relative_path = \"sample.txt\"\n",
    "absolute_path = os.path.abspath(relative_path)\n",
    "print(f\"Absolute path of {relative_path} is {absolute_path}\")\n",
    "## Getting the size of a file   \n"
   ]
  },
  {
   "cell_type": "code",
   "execution_count": null,
   "metadata": {},
   "outputs": [],
   "source": []
  }
 ],
 "metadata": {
  "kernelspec": {
   "display_name": "Python 3",
   "language": "python",
   "name": "python3"
  },
  "language_info": {
   "codemirror_mode": {
    "name": "ipython",
    "version": 3
   },
   "file_extension": ".py",
   "mimetype": "text/x-python",
   "name": "python",
   "nbconvert_exporter": "python",
   "pygments_lexer": "ipython3",
   "version": "3.11.6"
  }
 },
 "nbformat": 4,
 "nbformat_minor": 2
}
